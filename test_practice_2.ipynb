{
  "nbformat": 4,
  "nbformat_minor": 0,
  "metadata": {
    "colab": {
      "provenance": [],
      "authorship_tag": "ABX9TyPqubo4E/RcaMA3K8K5fWjl",
      "include_colab_link": true
    },
    "kernelspec": {
      "name": "python3",
      "display_name": "Python 3"
    },
    "language_info": {
      "name": "python"
    }
  },
  "cells": [
    {
      "cell_type": "markdown",
      "metadata": {
        "id": "view-in-github",
        "colab_type": "text"
      },
      "source": [
        "<a href=\"https://colab.research.google.com/github/sam2005-max/curn_prediction_test/blob/main/test_practice_2.ipynb\" target=\"_parent\"><img src=\"https://colab.research.google.com/assets/colab-badge.svg\" alt=\"Open In Colab\"/></a>"
      ]
    },
    {
      "cell_type": "markdown",
      "source": [
        "# Loyoha haqida\n",
        "Sizning kompaniyangiz obunaga asoslangan xizmatni taqdim etadi va sodiq mijozlar bazasini saqlab qolish uning biznes modeli uchun juda muhimdir. So'nggi paytlarda obunani bekor qilgan mijozlar sonining ko'payishi kuzatildi. Kompaniya proaktiv saqlash strategiyalarini xabardor qilish uchun mijozlarning ishlamay qolishini oldindan bashorat qilish uchun ma'lumotlar fanidan va mashinani o'rganishdan foydalanmoqchi."
      ],
      "metadata": {
        "id": "yL8lW3cEbJo7"
      }
    },
    {
      "cell_type": "markdown",
      "source": [
        "# Kerakli kutubhonalarni chqqirib olamiz"
      ],
      "metadata": {
        "id": "v3znv65FbSKP"
      }
    },
    {
      "cell_type": "code",
      "execution_count": 783,
      "metadata": {
        "id": "nQMS_nI3kcVD"
      },
      "outputs": [],
      "source": [
        "import pandas as pd\n",
        "import numpy as np\n",
        "import seaborn as sns\n",
        "import matplotlib.pyplot as plt\n",
        "from sklearn.metrics import accuracy_score\n",
        "from sklearn.ensemble import RandomForestClassifier\n",
        "from sklearn.model_selection import train_test_split, cross_validate\n",
        "import plotly.express as px\n"
      ]
    },
    {
      "cell_type": "markdown",
      "source": [
        "# Mijozlarning ma'lumotlarini yuklab olamiz"
      ],
      "metadata": {
        "id": "BCsFA5rzbekW"
      }
    },
    {
      "cell_type": "markdown",
      "source": [
        "# Ma'lumotlar haqida\n",
        "\n",
        "Gender: Customer's gender (male/female)\n",
        "\n",
        "Age: Customer's age\n",
        "\n",
        "Tenure: Number of months the customer has been with the service\n",
        "\n",
        "ServiceTier: Classification of the service level (basic, standard, premium)\n",
        "\n",
        "MonthlyCharge: The amount charged to the customer each month\n",
        "\n",
        "TotalCharges: The total amount charged to the customer so far\n",
        "\n",
        "NumSupportTickets: Number of support tickets raised by the customer\n",
        "\n",
        "NumDeviceTypes: Number of different types of devices registered to the customer's account\n",
        "\n",
        "SatisfactionScore: Customer satisfaction score from recent surveys (1-5 scale)\n",
        "\n",
        "Churn: Whether the customer has churned (True/False) - this is the target variable\n"
      ],
      "metadata": {
        "id": "8eorc-Gn1-i7"
      }
    },
    {
      "cell_type": "code",
      "source": [
        "data = pd.read_csv('/content/fake_customer_data.csv')\n",
        "data"
      ],
      "metadata": {
        "colab": {
          "base_uri": "https://localhost:8080/",
          "height": 444
        },
        "id": "T62yFu_umZnG",
        "outputId": "b4957cc4-0917-4f6a-b075-7cab16b9e189"
      },
      "execution_count": 784,
      "outputs": [
        {
          "output_type": "execute_result",
          "data": {
            "text/plain": [
              "     CustomerID  Gender  Age  Tenure ServiceTier  MonthlyCharge  TotalCharges  \\\n",
              "0             1    male   34      11     premium      72.496236    797.458595   \n",
              "1             2  female   26      56    standard      40.575330   2272.218472   \n",
              "2             3    male   50      67    standard      43.550379   2917.875362   \n",
              "3             4    male   37      29    standard      51.594724   1496.247005   \n",
              "4             5    male   30       9     premium      86.249596    776.246362   \n",
              "..          ...     ...  ...     ...         ...            ...           ...   \n",
              "995         996    male   42      30    standard      33.478592   1004.357745   \n",
              "996         997    male   26      24       basic      12.958134    310.995207   \n",
              "997         998  female   21      30    standard      22.681123    680.433695   \n",
              "998         999  female   31       7    standard      55.828767    390.801369   \n",
              "999        1000    male   54      35       basic      16.918186    592.136505   \n",
              "\n",
              "     NumSupportTickets  NumDeviceTypes  SatisfactionScore  Churn  \n",
              "0                    3               3                  4   True  \n",
              "1                    4               2                  3   True  \n",
              "2                    2               3                  2  False  \n",
              "3                    4               2                  2   True  \n",
              "4                    1               2                  1  False  \n",
              "..                 ...             ...                ...    ...  \n",
              "995                  4               2                  5  False  \n",
              "996                  4               4                  1   True  \n",
              "997                  4               2                  2   True  \n",
              "998                  7               4                  4  False  \n",
              "999                  8               2                  1   True  \n",
              "\n",
              "[1000 rows x 11 columns]"
            ],
            "text/html": [
              "\n",
              "  <div id=\"df-8d41bf55-bf90-4570-88f9-8cdd9deb7296\" class=\"colab-df-container\">\n",
              "    <div>\n",
              "<style scoped>\n",
              "    .dataframe tbody tr th:only-of-type {\n",
              "        vertical-align: middle;\n",
              "    }\n",
              "\n",
              "    .dataframe tbody tr th {\n",
              "        vertical-align: top;\n",
              "    }\n",
              "\n",
              "    .dataframe thead th {\n",
              "        text-align: right;\n",
              "    }\n",
              "</style>\n",
              "<table border=\"1\" class=\"dataframe\">\n",
              "  <thead>\n",
              "    <tr style=\"text-align: right;\">\n",
              "      <th></th>\n",
              "      <th>CustomerID</th>\n",
              "      <th>Gender</th>\n",
              "      <th>Age</th>\n",
              "      <th>Tenure</th>\n",
              "      <th>ServiceTier</th>\n",
              "      <th>MonthlyCharge</th>\n",
              "      <th>TotalCharges</th>\n",
              "      <th>NumSupportTickets</th>\n",
              "      <th>NumDeviceTypes</th>\n",
              "      <th>SatisfactionScore</th>\n",
              "      <th>Churn</th>\n",
              "    </tr>\n",
              "  </thead>\n",
              "  <tbody>\n",
              "    <tr>\n",
              "      <th>0</th>\n",
              "      <td>1</td>\n",
              "      <td>male</td>\n",
              "      <td>34</td>\n",
              "      <td>11</td>\n",
              "      <td>premium</td>\n",
              "      <td>72.496236</td>\n",
              "      <td>797.458595</td>\n",
              "      <td>3</td>\n",
              "      <td>3</td>\n",
              "      <td>4</td>\n",
              "      <td>True</td>\n",
              "    </tr>\n",
              "    <tr>\n",
              "      <th>1</th>\n",
              "      <td>2</td>\n",
              "      <td>female</td>\n",
              "      <td>26</td>\n",
              "      <td>56</td>\n",
              "      <td>standard</td>\n",
              "      <td>40.575330</td>\n",
              "      <td>2272.218472</td>\n",
              "      <td>4</td>\n",
              "      <td>2</td>\n",
              "      <td>3</td>\n",
              "      <td>True</td>\n",
              "    </tr>\n",
              "    <tr>\n",
              "      <th>2</th>\n",
              "      <td>3</td>\n",
              "      <td>male</td>\n",
              "      <td>50</td>\n",
              "      <td>67</td>\n",
              "      <td>standard</td>\n",
              "      <td>43.550379</td>\n",
              "      <td>2917.875362</td>\n",
              "      <td>2</td>\n",
              "      <td>3</td>\n",
              "      <td>2</td>\n",
              "      <td>False</td>\n",
              "    </tr>\n",
              "    <tr>\n",
              "      <th>3</th>\n",
              "      <td>4</td>\n",
              "      <td>male</td>\n",
              "      <td>37</td>\n",
              "      <td>29</td>\n",
              "      <td>standard</td>\n",
              "      <td>51.594724</td>\n",
              "      <td>1496.247005</td>\n",
              "      <td>4</td>\n",
              "      <td>2</td>\n",
              "      <td>2</td>\n",
              "      <td>True</td>\n",
              "    </tr>\n",
              "    <tr>\n",
              "      <th>4</th>\n",
              "      <td>5</td>\n",
              "      <td>male</td>\n",
              "      <td>30</td>\n",
              "      <td>9</td>\n",
              "      <td>premium</td>\n",
              "      <td>86.249596</td>\n",
              "      <td>776.246362</td>\n",
              "      <td>1</td>\n",
              "      <td>2</td>\n",
              "      <td>1</td>\n",
              "      <td>False</td>\n",
              "    </tr>\n",
              "    <tr>\n",
              "      <th>...</th>\n",
              "      <td>...</td>\n",
              "      <td>...</td>\n",
              "      <td>...</td>\n",
              "      <td>...</td>\n",
              "      <td>...</td>\n",
              "      <td>...</td>\n",
              "      <td>...</td>\n",
              "      <td>...</td>\n",
              "      <td>...</td>\n",
              "      <td>...</td>\n",
              "      <td>...</td>\n",
              "    </tr>\n",
              "    <tr>\n",
              "      <th>995</th>\n",
              "      <td>996</td>\n",
              "      <td>male</td>\n",
              "      <td>42</td>\n",
              "      <td>30</td>\n",
              "      <td>standard</td>\n",
              "      <td>33.478592</td>\n",
              "      <td>1004.357745</td>\n",
              "      <td>4</td>\n",
              "      <td>2</td>\n",
              "      <td>5</td>\n",
              "      <td>False</td>\n",
              "    </tr>\n",
              "    <tr>\n",
              "      <th>996</th>\n",
              "      <td>997</td>\n",
              "      <td>male</td>\n",
              "      <td>26</td>\n",
              "      <td>24</td>\n",
              "      <td>basic</td>\n",
              "      <td>12.958134</td>\n",
              "      <td>310.995207</td>\n",
              "      <td>4</td>\n",
              "      <td>4</td>\n",
              "      <td>1</td>\n",
              "      <td>True</td>\n",
              "    </tr>\n",
              "    <tr>\n",
              "      <th>997</th>\n",
              "      <td>998</td>\n",
              "      <td>female</td>\n",
              "      <td>21</td>\n",
              "      <td>30</td>\n",
              "      <td>standard</td>\n",
              "      <td>22.681123</td>\n",
              "      <td>680.433695</td>\n",
              "      <td>4</td>\n",
              "      <td>2</td>\n",
              "      <td>2</td>\n",
              "      <td>True</td>\n",
              "    </tr>\n",
              "    <tr>\n",
              "      <th>998</th>\n",
              "      <td>999</td>\n",
              "      <td>female</td>\n",
              "      <td>31</td>\n",
              "      <td>7</td>\n",
              "      <td>standard</td>\n",
              "      <td>55.828767</td>\n",
              "      <td>390.801369</td>\n",
              "      <td>7</td>\n",
              "      <td>4</td>\n",
              "      <td>4</td>\n",
              "      <td>False</td>\n",
              "    </tr>\n",
              "    <tr>\n",
              "      <th>999</th>\n",
              "      <td>1000</td>\n",
              "      <td>male</td>\n",
              "      <td>54</td>\n",
              "      <td>35</td>\n",
              "      <td>basic</td>\n",
              "      <td>16.918186</td>\n",
              "      <td>592.136505</td>\n",
              "      <td>8</td>\n",
              "      <td>2</td>\n",
              "      <td>1</td>\n",
              "      <td>True</td>\n",
              "    </tr>\n",
              "  </tbody>\n",
              "</table>\n",
              "<p>1000 rows × 11 columns</p>\n",
              "</div>\n",
              "    <div class=\"colab-df-buttons\">\n",
              "\n",
              "  <div class=\"colab-df-container\">\n",
              "    <button class=\"colab-df-convert\" onclick=\"convertToInteractive('df-8d41bf55-bf90-4570-88f9-8cdd9deb7296')\"\n",
              "            title=\"Convert this dataframe to an interactive table.\"\n",
              "            style=\"display:none;\">\n",
              "\n",
              "  <svg xmlns=\"http://www.w3.org/2000/svg\" height=\"24px\" viewBox=\"0 -960 960 960\">\n",
              "    <path d=\"M120-120v-720h720v720H120Zm60-500h600v-160H180v160Zm220 220h160v-160H400v160Zm0 220h160v-160H400v160ZM180-400h160v-160H180v160Zm440 0h160v-160H620v160ZM180-180h160v-160H180v160Zm440 0h160v-160H620v160Z\"/>\n",
              "  </svg>\n",
              "    </button>\n",
              "\n",
              "  <style>\n",
              "    .colab-df-container {\n",
              "      display:flex;\n",
              "      gap: 12px;\n",
              "    }\n",
              "\n",
              "    .colab-df-convert {\n",
              "      background-color: #E8F0FE;\n",
              "      border: none;\n",
              "      border-radius: 50%;\n",
              "      cursor: pointer;\n",
              "      display: none;\n",
              "      fill: #1967D2;\n",
              "      height: 32px;\n",
              "      padding: 0 0 0 0;\n",
              "      width: 32px;\n",
              "    }\n",
              "\n",
              "    .colab-df-convert:hover {\n",
              "      background-color: #E2EBFA;\n",
              "      box-shadow: 0px 1px 2px rgba(60, 64, 67, 0.3), 0px 1px 3px 1px rgba(60, 64, 67, 0.15);\n",
              "      fill: #174EA6;\n",
              "    }\n",
              "\n",
              "    .colab-df-buttons div {\n",
              "      margin-bottom: 4px;\n",
              "    }\n",
              "\n",
              "    [theme=dark] .colab-df-convert {\n",
              "      background-color: #3B4455;\n",
              "      fill: #D2E3FC;\n",
              "    }\n",
              "\n",
              "    [theme=dark] .colab-df-convert:hover {\n",
              "      background-color: #434B5C;\n",
              "      box-shadow: 0px 1px 3px 1px rgba(0, 0, 0, 0.15);\n",
              "      filter: drop-shadow(0px 1px 2px rgba(0, 0, 0, 0.3));\n",
              "      fill: #FFFFFF;\n",
              "    }\n",
              "  </style>\n",
              "\n",
              "    <script>\n",
              "      const buttonEl =\n",
              "        document.querySelector('#df-8d41bf55-bf90-4570-88f9-8cdd9deb7296 button.colab-df-convert');\n",
              "      buttonEl.style.display =\n",
              "        google.colab.kernel.accessAllowed ? 'block' : 'none';\n",
              "\n",
              "      async function convertToInteractive(key) {\n",
              "        const element = document.querySelector('#df-8d41bf55-bf90-4570-88f9-8cdd9deb7296');\n",
              "        const dataTable =\n",
              "          await google.colab.kernel.invokeFunction('convertToInteractive',\n",
              "                                                    [key], {});\n",
              "        if (!dataTable) return;\n",
              "\n",
              "        const docLinkHtml = 'Like what you see? Visit the ' +\n",
              "          '<a target=\"_blank\" href=https://colab.research.google.com/notebooks/data_table.ipynb>data table notebook</a>'\n",
              "          + ' to learn more about interactive tables.';\n",
              "        element.innerHTML = '';\n",
              "        dataTable['output_type'] = 'display_data';\n",
              "        await google.colab.output.renderOutput(dataTable, element);\n",
              "        const docLink = document.createElement('div');\n",
              "        docLink.innerHTML = docLinkHtml;\n",
              "        element.appendChild(docLink);\n",
              "      }\n",
              "    </script>\n",
              "  </div>\n",
              "\n",
              "\n",
              "<div id=\"df-ab7d5d6f-6ba8-4a8b-a090-35caeec41df3\">\n",
              "  <button class=\"colab-df-quickchart\" onclick=\"quickchart('df-ab7d5d6f-6ba8-4a8b-a090-35caeec41df3')\"\n",
              "            title=\"Suggest charts\"\n",
              "            style=\"display:none;\">\n",
              "\n",
              "<svg xmlns=\"http://www.w3.org/2000/svg\" height=\"24px\"viewBox=\"0 0 24 24\"\n",
              "     width=\"24px\">\n",
              "    <g>\n",
              "        <path d=\"M19 3H5c-1.1 0-2 .9-2 2v14c0 1.1.9 2 2 2h14c1.1 0 2-.9 2-2V5c0-1.1-.9-2-2-2zM9 17H7v-7h2v7zm4 0h-2V7h2v10zm4 0h-2v-4h2v4z\"/>\n",
              "    </g>\n",
              "</svg>\n",
              "  </button>\n",
              "\n",
              "<style>\n",
              "  .colab-df-quickchart {\n",
              "      --bg-color: #E8F0FE;\n",
              "      --fill-color: #1967D2;\n",
              "      --hover-bg-color: #E2EBFA;\n",
              "      --hover-fill-color: #174EA6;\n",
              "      --disabled-fill-color: #AAA;\n",
              "      --disabled-bg-color: #DDD;\n",
              "  }\n",
              "\n",
              "  [theme=dark] .colab-df-quickchart {\n",
              "      --bg-color: #3B4455;\n",
              "      --fill-color: #D2E3FC;\n",
              "      --hover-bg-color: #434B5C;\n",
              "      --hover-fill-color: #FFFFFF;\n",
              "      --disabled-bg-color: #3B4455;\n",
              "      --disabled-fill-color: #666;\n",
              "  }\n",
              "\n",
              "  .colab-df-quickchart {\n",
              "    background-color: var(--bg-color);\n",
              "    border: none;\n",
              "    border-radius: 50%;\n",
              "    cursor: pointer;\n",
              "    display: none;\n",
              "    fill: var(--fill-color);\n",
              "    height: 32px;\n",
              "    padding: 0;\n",
              "    width: 32px;\n",
              "  }\n",
              "\n",
              "  .colab-df-quickchart:hover {\n",
              "    background-color: var(--hover-bg-color);\n",
              "    box-shadow: 0 1px 2px rgba(60, 64, 67, 0.3), 0 1px 3px 1px rgba(60, 64, 67, 0.15);\n",
              "    fill: var(--button-hover-fill-color);\n",
              "  }\n",
              "\n",
              "  .colab-df-quickchart-complete:disabled,\n",
              "  .colab-df-quickchart-complete:disabled:hover {\n",
              "    background-color: var(--disabled-bg-color);\n",
              "    fill: var(--disabled-fill-color);\n",
              "    box-shadow: none;\n",
              "  }\n",
              "\n",
              "  .colab-df-spinner {\n",
              "    border: 2px solid var(--fill-color);\n",
              "    border-color: transparent;\n",
              "    border-bottom-color: var(--fill-color);\n",
              "    animation:\n",
              "      spin 1s steps(1) infinite;\n",
              "  }\n",
              "\n",
              "  @keyframes spin {\n",
              "    0% {\n",
              "      border-color: transparent;\n",
              "      border-bottom-color: var(--fill-color);\n",
              "      border-left-color: var(--fill-color);\n",
              "    }\n",
              "    20% {\n",
              "      border-color: transparent;\n",
              "      border-left-color: var(--fill-color);\n",
              "      border-top-color: var(--fill-color);\n",
              "    }\n",
              "    30% {\n",
              "      border-color: transparent;\n",
              "      border-left-color: var(--fill-color);\n",
              "      border-top-color: var(--fill-color);\n",
              "      border-right-color: var(--fill-color);\n",
              "    }\n",
              "    40% {\n",
              "      border-color: transparent;\n",
              "      border-right-color: var(--fill-color);\n",
              "      border-top-color: var(--fill-color);\n",
              "    }\n",
              "    60% {\n",
              "      border-color: transparent;\n",
              "      border-right-color: var(--fill-color);\n",
              "    }\n",
              "    80% {\n",
              "      border-color: transparent;\n",
              "      border-right-color: var(--fill-color);\n",
              "      border-bottom-color: var(--fill-color);\n",
              "    }\n",
              "    90% {\n",
              "      border-color: transparent;\n",
              "      border-bottom-color: var(--fill-color);\n",
              "    }\n",
              "  }\n",
              "</style>\n",
              "\n",
              "  <script>\n",
              "    async function quickchart(key) {\n",
              "      const quickchartButtonEl =\n",
              "        document.querySelector('#' + key + ' button');\n",
              "      quickchartButtonEl.disabled = true;  // To prevent multiple clicks.\n",
              "      quickchartButtonEl.classList.add('colab-df-spinner');\n",
              "      try {\n",
              "        const charts = await google.colab.kernel.invokeFunction(\n",
              "            'suggestCharts', [key], {});\n",
              "      } catch (error) {\n",
              "        console.error('Error during call to suggestCharts:', error);\n",
              "      }\n",
              "      quickchartButtonEl.classList.remove('colab-df-spinner');\n",
              "      quickchartButtonEl.classList.add('colab-df-quickchart-complete');\n",
              "    }\n",
              "    (() => {\n",
              "      let quickchartButtonEl =\n",
              "        document.querySelector('#df-ab7d5d6f-6ba8-4a8b-a090-35caeec41df3 button');\n",
              "      quickchartButtonEl.style.display =\n",
              "        google.colab.kernel.accessAllowed ? 'block' : 'none';\n",
              "    })();\n",
              "  </script>\n",
              "</div>\n",
              "\n",
              "  <div id=\"id_9271d226-49a0-4457-abac-b2bcca2f437a\">\n",
              "    <style>\n",
              "      .colab-df-generate {\n",
              "        background-color: #E8F0FE;\n",
              "        border: none;\n",
              "        border-radius: 50%;\n",
              "        cursor: pointer;\n",
              "        display: none;\n",
              "        fill: #1967D2;\n",
              "        height: 32px;\n",
              "        padding: 0 0 0 0;\n",
              "        width: 32px;\n",
              "      }\n",
              "\n",
              "      .colab-df-generate:hover {\n",
              "        background-color: #E2EBFA;\n",
              "        box-shadow: 0px 1px 2px rgba(60, 64, 67, 0.3), 0px 1px 3px 1px rgba(60, 64, 67, 0.15);\n",
              "        fill: #174EA6;\n",
              "      }\n",
              "\n",
              "      [theme=dark] .colab-df-generate {\n",
              "        background-color: #3B4455;\n",
              "        fill: #D2E3FC;\n",
              "      }\n",
              "\n",
              "      [theme=dark] .colab-df-generate:hover {\n",
              "        background-color: #434B5C;\n",
              "        box-shadow: 0px 1px 3px 1px rgba(0, 0, 0, 0.15);\n",
              "        filter: drop-shadow(0px 1px 2px rgba(0, 0, 0, 0.3));\n",
              "        fill: #FFFFFF;\n",
              "      }\n",
              "    </style>\n",
              "    <button class=\"colab-df-generate\" onclick=\"generateWithVariable('data')\"\n",
              "            title=\"Generate code using this dataframe.\"\n",
              "            style=\"display:none;\">\n",
              "\n",
              "  <svg xmlns=\"http://www.w3.org/2000/svg\" height=\"24px\"viewBox=\"0 0 24 24\"\n",
              "       width=\"24px\">\n",
              "    <path d=\"M7,19H8.4L18.45,9,17,7.55,7,17.6ZM5,21V16.75L18.45,3.32a2,2,0,0,1,2.83,0l1.4,1.43a1.91,1.91,0,0,1,.58,1.4,1.91,1.91,0,0,1-.58,1.4L9.25,21ZM18.45,9,17,7.55Zm-12,3A5.31,5.31,0,0,0,4.9,8.1,5.31,5.31,0,0,0,1,6.5,5.31,5.31,0,0,0,4.9,4.9,5.31,5.31,0,0,0,6.5,1,5.31,5.31,0,0,0,8.1,4.9,5.31,5.31,0,0,0,12,6.5,5.46,5.46,0,0,0,6.5,12Z\"/>\n",
              "  </svg>\n",
              "    </button>\n",
              "    <script>\n",
              "      (() => {\n",
              "      const buttonEl =\n",
              "        document.querySelector('#id_9271d226-49a0-4457-abac-b2bcca2f437a button.colab-df-generate');\n",
              "      buttonEl.style.display =\n",
              "        google.colab.kernel.accessAllowed ? 'block' : 'none';\n",
              "\n",
              "      buttonEl.onclick = () => {\n",
              "        google.colab.notebook.generateWithVariable('data');\n",
              "      }\n",
              "      })();\n",
              "    </script>\n",
              "  </div>\n",
              "\n",
              "    </div>\n",
              "  </div>\n"
            ],
            "application/vnd.google.colaboratory.intrinsic+json": {
              "type": "dataframe",
              "variable_name": "data",
              "summary": "{\n  \"name\": \"data\",\n  \"rows\": 1000,\n  \"fields\": [\n    {\n      \"column\": \"CustomerID\",\n      \"properties\": {\n        \"dtype\": \"number\",\n        \"std\": 288,\n        \"min\": 1,\n        \"max\": 1000,\n        \"num_unique_values\": 1000,\n        \"samples\": [\n          522,\n          738,\n          741\n        ],\n        \"semantic_type\": \"\",\n        \"description\": \"\"\n      }\n    },\n    {\n      \"column\": \"Gender\",\n      \"properties\": {\n        \"dtype\": \"category\",\n        \"num_unique_values\": 2,\n        \"samples\": [\n          \"female\",\n          \"male\"\n        ],\n        \"semantic_type\": \"\",\n        \"description\": \"\"\n      }\n    },\n    {\n      \"column\": \"Age\",\n      \"properties\": {\n        \"dtype\": \"number\",\n        \"std\": 15,\n        \"min\": 18,\n        \"max\": 69,\n        \"num_unique_values\": 52,\n        \"samples\": [\n          67,\n          56\n        ],\n        \"semantic_type\": \"\",\n        \"description\": \"\"\n      }\n    },\n    {\n      \"column\": \"Tenure\",\n      \"properties\": {\n        \"dtype\": \"number\",\n        \"std\": 20,\n        \"min\": 1,\n        \"max\": 71,\n        \"num_unique_values\": 71,\n        \"samples\": [\n          6,\n          11\n        ],\n        \"semantic_type\": \"\",\n        \"description\": \"\"\n      }\n    },\n    {\n      \"column\": \"ServiceTier\",\n      \"properties\": {\n        \"dtype\": \"category\",\n        \"num_unique_values\": 3,\n        \"samples\": [\n          \"premium\",\n          \"standard\"\n        ],\n        \"semantic_type\": \"\",\n        \"description\": \"\"\n      }\n    },\n    {\n      \"column\": \"MonthlyCharge\",\n      \"properties\": {\n        \"dtype\": \"number\",\n        \"std\": 28.70888548953107,\n        \"min\": 10.039293214222178,\n        \"max\": 99.95000137565268,\n        \"num_unique_values\": 1000,\n        \"samples\": [\n          17.040856686423353,\n          44.54848727416912\n        ],\n        \"semantic_type\": \"\",\n        \"description\": \"\"\n      }\n    },\n    {\n      \"column\": \"TotalCharges\",\n      \"properties\": {\n        \"dtype\": \"number\",\n        \"std\": 1350.2658484028823,\n        \"min\": 12.79442422235894,\n        \"max\": 6863.881851242266,\n        \"num_unique_values\": 1000,\n        \"samples\": [\n          596.4299840248174,\n          1514.64856732175\n        ],\n        \"semantic_type\": \"\",\n        \"description\": \"\"\n      }\n    },\n    {\n      \"column\": \"NumSupportTickets\",\n      \"properties\": {\n        \"dtype\": \"number\",\n        \"std\": 2,\n        \"min\": 0,\n        \"max\": 12,\n        \"num_unique_values\": 13,\n        \"samples\": [\n          11,\n          12\n        ],\n        \"semantic_type\": \"\",\n        \"description\": \"\"\n      }\n    },\n    {\n      \"column\": \"NumDeviceTypes\",\n      \"properties\": {\n        \"dtype\": \"number\",\n        \"std\": 1,\n        \"min\": 1,\n        \"max\": 4,\n        \"num_unique_values\": 4,\n        \"samples\": [\n          2,\n          1\n        ],\n        \"semantic_type\": \"\",\n        \"description\": \"\"\n      }\n    },\n    {\n      \"column\": \"SatisfactionScore\",\n      \"properties\": {\n        \"dtype\": \"number\",\n        \"std\": 1,\n        \"min\": 1,\n        \"max\": 5,\n        \"num_unique_values\": 5,\n        \"samples\": [\n          3,\n          5\n        ],\n        \"semantic_type\": \"\",\n        \"description\": \"\"\n      }\n    },\n    {\n      \"column\": \"Churn\",\n      \"properties\": {\n        \"dtype\": \"boolean\",\n        \"num_unique_values\": 2,\n        \"samples\": [\n          false,\n          true\n        ],\n        \"semantic_type\": \"\",\n        \"description\": \"\"\n      }\n    }\n  ]\n}"
            }
          },
          "metadata": {},
          "execution_count": 784
        }
      ]
    },
    {
      "cell_type": "markdown",
      "source": [
        "# Shape"
      ],
      "metadata": {
        "id": "tV_NF5uNeM9E"
      }
    },
    {
      "cell_type": "markdown",
      "source": [
        "Bu yerda biz ma'lumotlarimizning hajmini ya'ni ustunlar va qatorlar sonini bilib olishimiz mumkin."
      ],
      "metadata": {
        "id": "F5qKlm0VdPe-"
      }
    },
    {
      "cell_type": "code",
      "source": [
        "def shape_of_data(data):\n",
        "  print(data.shape)\n",
        "shape_of_data(data)"
      ],
      "metadata": {
        "id": "QCfokjUHmctN",
        "colab": {
          "base_uri": "https://localhost:8080/"
        },
        "outputId": "43665c18-a71a-426a-e848-61fe63f2df6c"
      },
      "execution_count": 785,
      "outputs": [
        {
          "output_type": "stream",
          "name": "stdout",
          "text": [
            "(1000, 11)\n"
          ]
        }
      ]
    },
    {
      "cell_type": "markdown",
      "source": [
        "# Info"
      ],
      "metadata": {
        "id": "eiDT2i-7eJCg"
      }
    },
    {
      "cell_type": "markdown",
      "source": [
        "Bu yerda ma'lumotlarning turlarini ya'ni qaysi ustunda qanday ma'lumotlar turlari borligini ko'rishimiz mumkin"
      ],
      "metadata": {
        "id": "GQRX7ctAdc1m"
      }
    },
    {
      "cell_type": "code",
      "source": [
        "def data_info(data):\n",
        "  data.info()\n",
        "data_info(data)"
      ],
      "metadata": {
        "colab": {
          "base_uri": "https://localhost:8080/"
        },
        "id": "OKTDeMP8cNmP",
        "outputId": "71b0f266-eedf-47b6-93fb-5edda8135d26"
      },
      "execution_count": 786,
      "outputs": [
        {
          "output_type": "stream",
          "name": "stdout",
          "text": [
            "<class 'pandas.core.frame.DataFrame'>\n",
            "RangeIndex: 1000 entries, 0 to 999\n",
            "Data columns (total 11 columns):\n",
            " #   Column             Non-Null Count  Dtype  \n",
            "---  ------             --------------  -----  \n",
            " 0   CustomerID         1000 non-null   int64  \n",
            " 1   Gender             1000 non-null   object \n",
            " 2   Age                1000 non-null   int64  \n",
            " 3   Tenure             1000 non-null   int64  \n",
            " 4   ServiceTier        1000 non-null   object \n",
            " 5   MonthlyCharge      1000 non-null   float64\n",
            " 6   TotalCharges       1000 non-null   float64\n",
            " 7   NumSupportTickets  1000 non-null   int64  \n",
            " 8   NumDeviceTypes     1000 non-null   int64  \n",
            " 9   SatisfactionScore  1000 non-null   int64  \n",
            " 10  Churn              1000 non-null   bool   \n",
            "dtypes: bool(1), float64(2), int64(6), object(2)\n",
            "memory usage: 79.2+ KB\n"
          ]
        }
      ]
    },
    {
      "cell_type": "markdown",
      "source": [
        "# Deacription data"
      ],
      "metadata": {
        "id": "UUe5QtakeCEO"
      }
    },
    {
      "cell_type": "markdown",
      "source": [
        "Bu yerda ma'lumotlarni dascribe funksiyasi yordamida ma'lumotlarimizni statistikal ma'lumotlarini ko'rishimiz mumkin"
      ],
      "metadata": {
        "id": "XzR-Y7qDdvPD"
      }
    },
    {
      "cell_type": "code",
      "source": [
        "def description_of_data(data):\n",
        "  print(data.describe())\n",
        "description_of_data(data)"
      ],
      "metadata": {
        "colab": {
          "base_uri": "https://localhost:8080/"
        },
        "id": "rAfdCTbAd_Y9",
        "outputId": "d77975fa-8d08-4f79-dd4d-082ac95a985d"
      },
      "execution_count": 787,
      "outputs": [
        {
          "output_type": "stream",
          "name": "stdout",
          "text": [
            "        CustomerID          Age       Tenure  MonthlyCharge  TotalCharges  \\\n",
            "count  1000.000000  1000.000000  1000.000000    1000.000000   1000.000000   \n",
            "mean    500.500000    43.799000    34.569000      44.687210   1485.276444   \n",
            "std     288.819436    15.133857    20.348103      28.708885   1350.265848   \n",
            "min       1.000000    18.000000     1.000000      10.039293     12.794424   \n",
            "25%     250.750000    31.000000    17.000000      17.605445    471.333446   \n",
            "50%     500.500000    44.000000    33.500000      38.527190    983.088963   \n",
            "75%     750.250000    57.000000    52.000000      70.632094   2187.079806   \n",
            "max    1000.000000    69.000000    71.000000      99.950001   6863.881851   \n",
            "\n",
            "       NumSupportTickets  NumDeviceTypes  SatisfactionScore  \n",
            "count         1000.00000     1000.000000        1000.000000  \n",
            "mean             4.92700        2.532000           3.047000  \n",
            "std              2.09668        1.130599           1.417321  \n",
            "min              0.00000        1.000000           1.000000  \n",
            "25%              3.00000        2.000000           2.000000  \n",
            "50%              5.00000        3.000000           3.000000  \n",
            "75%              6.00000        4.000000           4.000000  \n",
            "max             12.00000        4.000000           5.000000  \n"
          ]
        }
      ]
    },
    {
      "cell_type": "markdown",
      "source": [
        "# NUll Values"
      ],
      "metadata": {
        "id": "19B5QroVeniB"
      }
    },
    {
      "cell_type": "markdown",
      "source": [
        "Bu yerda biz ma'lumotlarimizning ichidagi yo'q qiymatlar nechtaligini ko'rishimiz mumkin. Vaholangki ma'lumotlarimizning ichida null yani yo'q qiymatlar mavjud emas"
      ],
      "metadata": {
        "id": "6mBuRO3ceTxQ"
      }
    },
    {
      "cell_type": "code",
      "source": [
        "def null_values(data):\n",
        "  print(data.isnull().sum())\n",
        "null_values(data)"
      ],
      "metadata": {
        "colab": {
          "base_uri": "https://localhost:8080/"
        },
        "id": "nJ-oJPhGdzib",
        "outputId": "3fedb87c-8823-4d14-f8ec-d49d11ffabae"
      },
      "execution_count": 788,
      "outputs": [
        {
          "output_type": "stream",
          "name": "stdout",
          "text": [
            "CustomerID           0\n",
            "Gender               0\n",
            "Age                  0\n",
            "Tenure               0\n",
            "ServiceTier          0\n",
            "MonthlyCharge        0\n",
            "TotalCharges         0\n",
            "NumSupportTickets    0\n",
            "NumDeviceTypes       0\n",
            "SatisfactionScore    0\n",
            "Churn                0\n",
            "dtype: int64\n"
          ]
        }
      ]
    },
    {
      "cell_type": "markdown",
      "source": [
        "# Visualization"
      ],
      "metadata": {
        "id": "ITyC23nsesXj"
      }
    },
    {
      "cell_type": "markdown",
      "source": [
        "Mijozlarning ma'lumotlaridan foydalangan holda, ma'lumotlarimizdagi \"Churn\" ustuniga 3 ta ustundagi ma'lumotlarning nisbatini visualizatsiya ko'rinishida chiqarganmiz ushbu ustunlar: 'Gender', 'ServiceTier', 'NumDeviceTypes'"
      ],
      "metadata": {
        "id": "jepq6jS8eyGq"
      }
    },
    {
      "cell_type": "code",
      "source": [
        "fig, axes = plt. subplots (1,3, figsize=(15,5))\n",
        "sns.countplot(x='Gender', hue='Churn', palette='viridis', data=data, ax=axes [0])\n",
        "axes [0] .set_title(\"(Mijozlarning turlari)\")\n",
        "sns.countplot(x='ServiceTier', hue='Churn', palette='viridis', data=data, ax=axes [1])\n",
        "axes [1]. set_title(\"(hizmatlarning turlari)\")\n",
        "sns.countplot(x='NumDeviceTypes', hue='Churn', palette='viridis', data=data, ax=axes [2])\n",
        "axes[2]. set_title(\"(mijozrlarning qaysi kurilmadan ro'yxatdan o'tkanlari)\")\n",
        "plt. show()"
      ],
      "metadata": {
        "colab": {
          "base_uri": "https://localhost:8080/",
          "height": 387
        },
        "id": "yr2YACmjYyvj",
        "outputId": "b3826968-c143-488f-8425-ea185eff1211"
      },
      "execution_count": 789,
      "outputs": [
        {
          "output_type": "display_data",
          "data": {
            "text/plain": [
              "<Figure size 1500x500 with 3 Axes>"
            ],
            "image/png": "[encoded data removed]"
          },
          "metadata": {}
        }
      ]
    },
    {
      "cell_type": "markdown",
      "source": [
        "# Vusualizatsiyalar\n",
        "\n",
        "1. (Mijozlarning turlari) Gender ustunini Churn ustuniga nisbatini olganmiz va bu yerda Ayol va Erkak o'rtasida obunani bekor qilganlar soni deyarli bir hil shuning uchun ushbu ustun bizning bashorat qilishimida katta ahamiyatga ega bo'lmaydi.\n",
        "\n",
        "2. (Hizmat turlari) ServiceTier usnunini Churn ustuniga solishtirganimizni ko'rishingiz mumkin, Hizmat turlari: Premium, Standart, va Basic turlarga bo'lingan bu yerda ahamiyat beriladigan jihat Standar hizmat turida boshqa hizmat turlariga qaraganda obunani bekor qilish ko'p uchragan va bu holat ya'ni \"ServiceTier\" ustuni bashoratimizga ijobiy tasir qilishi mumkin\n",
        "\n",
        "3. (Mijozlarning qaysi qurilmadan ro'yxatdan o'tganlari) NumDeviceType ustunini Churn ustuniga nisbatini ko'rishimiz mumkin. Qurilmalar to'rt turga 1-4 gacha raqamlar bilan belgilangan. Bu yerda ahamiyatli jihati 3 va 4 chi qurilmalatdan ro'yxatdan o'tganlar boshqalariga qaraganda ko'proq obunani bekor qilgan. Ushbu ustunham bashorat uchun kerakli ustun hisoblanadi."
      ],
      "metadata": {
        "id": "z1Bf0jRhgIMY"
      }
    },
    {
      "cell_type": "markdown",
      "source": [],
      "metadata": {
        "id": "veby-VN5gQhO"
      }
    },
    {
      "cell_type": "markdown",
      "source": [
        "# Visualizatsiya"
      ],
      "metadata": {
        "id": "ycyXAW1oi42p"
      }
    },
    {
      "cell_type": "code",
      "source": [
        "fig, axes = plt. subplots (figsize=(15,5))\n",
        "sns.countplot(x='SatisfactionScore', hue='Churn', palette='viridis', data=data, ax=axes)\n",
        "axes .set_title(\"(mijozrlarning qoniqarlilik to'g'risida qo'ygan reytingi)\")\n",
        "plt.show()"
      ],
      "metadata": {
        "colab": {
          "base_uri": "https://localhost:8080/",
          "height": 402
        },
        "id": "VizIwNuSaH9v",
        "outputId": "4a34b54b-4ce0-4fde-c56a-af2377d0c92b"
      },
      "execution_count": 790,
      "outputs": [
        {
          "output_type": "display_data",
          "data": {
            "text/plain": [
              "<Figure size 1500x500 with 1 Axes>"
            ],
            "image/png": "[encoded data removed]"
          },
          "metadata": {}
        }
      ]
    },
    {
      "cell_type": "markdown",
      "source": [
        "1. (Mijozlarning qoniqarlilik to'g'risida qo'ygan reytingi) SatisfctionScore ustunini Churn ustuniga nisbatini ko'rishimiz mumkin. Bu yerda qoniqarlilik baholari 1-5 gacha baholash tizimida baholangan va bu yerda ahamiyatlisi 2 reyting qo'ygan shahslar boshqa qo'yilgan reyting baholariga qaraganda ko'proq obunani bekor qilishgan. Ushbu ustunham bashoratimiz uchun kerak bo'lishi mumkin"
      ],
      "metadata": {
        "id": "pmk4wTQajBdU"
      }
    },
    {
      "cell_type": "markdown",
      "source": [
        "# Visualizatsiya"
      ],
      "metadata": {
        "id": "Ah-Pu5jzkSnK"
      }
    },
    {
      "cell_type": "code",
      "source": [
        "import seaborn as sns\n",
        "import matplotlib.pyplot as plt\n",
        "\n",
        "fig, axes = plt.subplots (figsize=(15,5))\n",
        "sns.countplot(x='Tenure', hue='Churn', palette='viridis', data=data, ax=axes)\n",
        "axes.set_title(\"(necha oy davomida obuna bo'lgani)\")\n",
        "plt.show()"
      ],
      "metadata": {
        "colab": {
          "base_uri": "https://localhost:8080/",
          "height": 405
        },
        "id": "-JZ36F7PlRq9",
        "outputId": "2a70e2ca-9de9-412d-e116-206858b07e89"
      },
      "execution_count": 791,
      "outputs": [
        {
          "output_type": "display_data",
          "data": {
            "text/plain": [
              "<Figure size 1500x500 with 1 Axes>"
            ],
            "image/png": "[encoded data removed]"
          },
          "metadata": {}
        }
      ]
    },
    {
      "cell_type": "markdown",
      "source": [
        "1. (necha oy davomida obuna bo'lgani) biz Tenure ustunining Churn ustuniga nisbatini visual tarzda chiqardik. Bu yerda ko'rishimiz mumkin deyarli barcha ma'lumotlar bir hil yani necha oy davomida obunaqa qolgani raqamlarda bir hil lekin orasida bazi bir obunachilarning oylik obunaqa qolgani ko'proq chiqgan va bu ham modelimiz bashorati uchun ahamiyatli bo'lishi mumkin."
      ],
      "metadata": {
        "id": "PvRED8PbkXOG"
      }
    },
    {
      "cell_type": "markdown",
      "source": [
        "# Replace item"
      ],
      "metadata": {
        "id": "o1Spp8wZl4Li"
      }
    },
    {
      "cell_type": "markdown",
      "source": [
        "**Bu yerda biz Churn ustunidagi True va Folse qiymatlarni ML modelimiz yaxshi ishlachi uchun 0 va bir qaiymatlarga o'girib chiqganmmiz**"
      ],
      "metadata": {
        "id": "LZRUDwE5lnCR"
      }
    },
    {
      "cell_type": "code",
      "source": [
        "def boolean_to_int_Curn_col(data):\n",
        "  data['Churn'] = data['Churn'].replace({True: 1, False: 0})\n",
        "boolean_to_int_Curn_col(data)"
      ],
      "metadata": {
        "id": "xcOTPaXcAc0S"
      },
      "execution_count": 792,
      "outputs": []
    },
    {
      "cell_type": "code",
      "source": [
        "data = data.drop(['CustomerID'], axis = 1)\n",
        "data.Churn.value_counts()"
      ],
      "metadata": {
        "id": "Vbe309yQ-vwS",
        "colab": {
          "base_uri": "https://localhost:8080/"
        },
        "outputId": "f19326fa-55a0-4496-90d8-38f75a213d81"
      },
      "execution_count": 793,
      "outputs": [
        {
          "output_type": "execute_result",
          "data": {
            "text/plain": [
              "0    806\n",
              "1    194\n",
              "Name: Churn, dtype: int64"
            ]
          },
          "metadata": {},
          "execution_count": 793
        }
      ]
    },
    {
      "cell_type": "code",
      "source": [
        "churn_status = data['Churn'].value_counts()/len(data)*100\n",
        "plt.figure(figsize = (5,8))\n",
        "plt.pie(churn_status, labels = ['obuna bolgan','Obunadan chiqgan'])\n",
        "plt.show()"
      ],
      "metadata": {
        "colab": {
          "base_uri": "https://localhost:8080/",
          "height": 424
        },
        "id": "qatBHN0uIn3E",
        "outputId": "9ce0a27f-f96d-4c65-cc3b-6a19d03b3013"
      },
      "execution_count": 794,
      "outputs": [
        {
          "output_type": "display_data",
          "data": {
            "text/plain": [
              "<Figure size 500x800 with 1 Axes>"
            ],
            "image/png": "[encoded data removed]"
          },
          "metadata": {}
        }
      ]
    },
    {
      "cell_type": "code",
      "source": [
        "data.head()\n"
      ],
      "metadata": {
        "colab": {
          "base_uri": "https://localhost:8080/",
          "height": 226
        },
        "id": "f8miM5m347Nu",
        "outputId": "a6979796-1e01-48bc-a527-5bee70302ccb"
      },
      "execution_count": 795,
      "outputs": [
        {
          "output_type": "execute_result",
          "data": {
            "text/plain": [
              "   Gender  Age  Tenure ServiceTier  MonthlyCharge  TotalCharges  \\\n",
              "0    male   34      11     premium      72.496236    797.458595   \n",
              "1  female   26      56    standard      40.575330   2272.218472   \n",
              "2    male   50      67    standard      43.550379   2917.875362   \n",
              "3    male   37      29    standard      51.594724   1496.247005   \n",
              "4    male   30       9     premium      86.249596    776.246362   \n",
              "\n",
              "   NumSupportTickets  NumDeviceTypes  SatisfactionScore  Churn  \n",
              "0                  3               3                  4      1  \n",
              "1                  4               2                  3      1  \n",
              "2                  2               3                  2      0  \n",
              "3                  4               2                  2      1  \n",
              "4                  1               2                  1      0  "
            ],
            "text/html": [
              "\n",
              "  <div id=\"df-e391af7e-1ef9-4c28-bd2e-bc20dfe3a200\" class=\"colab-df-container\">\n",
              "    <div>\n",
              "<style scoped>\n",
              "    .dataframe tbody tr th:only-of-type {\n",
              "        vertical-align: middle;\n",
              "    }\n",
              "\n",
              "    .dataframe tbody tr th {\n",
              "        vertical-align: top;\n",
              "    }\n",
              "\n",
              "    .dataframe thead th {\n",
              "        text-align: right;\n",
              "    }\n",
              "</style>\n",
              "<table border=\"1\" class=\"dataframe\">\n",
              "  <thead>\n",
              "    <tr style=\"text-align: right;\">\n",
              "      <th></th>\n",
              "      <th>Gender</th>\n",
              "      <th>Age</th>\n",
              "      <th>Tenure</th>\n",
              "      <th>ServiceTier</th>\n",
              "      <th>MonthlyCharge</th>\n",
              "      <th>TotalCharges</th>\n",
              "      <th>NumSupportTickets</th>\n",
              "      <th>NumDeviceTypes</th>\n",
              "      <th>SatisfactionScore</th>\n",
              "      <th>Churn</th>\n",
              "    </tr>\n",
              "  </thead>\n",
              "  <tbody>\n",
              "    <tr>\n",
              "      <th>0</th>\n",
              "      <td>male</td>\n",
              "      <td>34</td>\n",
              "      <td>11</td>\n",
              "      <td>premium</td>\n",
              "      <td>72.496236</td>\n",
              "      <td>797.458595</td>\n",
              "      <td>3</td>\n",
              "      <td>3</td>\n",
              "      <td>4</td>\n",
              "      <td>1</td>\n",
              "    </tr>\n",
              "    <tr>\n",
              "      <th>1</th>\n",
              "      <td>female</td>\n",
              "      <td>26</td>\n",
              "      <td>56</td>\n",
              "      <td>standard</td>\n",
              "      <td>40.575330</td>\n",
              "      <td>2272.218472</td>\n",
              "      <td>4</td>\n",
              "      <td>2</td>\n",
              "      <td>3</td>\n",
              "      <td>1</td>\n",
              "    </tr>\n",
              "    <tr>\n",
              "      <th>2</th>\n",
              "      <td>male</td>\n",
              "      <td>50</td>\n",
              "      <td>67</td>\n",
              "      <td>standard</td>\n",
              "      <td>43.550379</td>\n",
              "      <td>2917.875362</td>\n",
              "      <td>2</td>\n",
              "      <td>3</td>\n",
              "      <td>2</td>\n",
              "      <td>0</td>\n",
              "    </tr>\n",
              "    <tr>\n",
              "      <th>3</th>\n",
              "      <td>male</td>\n",
              "      <td>37</td>\n",
              "      <td>29</td>\n",
              "      <td>standard</td>\n",
              "      <td>51.594724</td>\n",
              "      <td>1496.247005</td>\n",
              "      <td>4</td>\n",
              "      <td>2</td>\n",
              "      <td>2</td>\n",
              "      <td>1</td>\n",
              "    </tr>\n",
              "    <tr>\n",
              "      <th>4</th>\n",
              "      <td>male</td>\n",
              "      <td>30</td>\n",
              "      <td>9</td>\n",
              "      <td>premium</td>\n",
              "      <td>86.249596</td>\n",
              "      <td>776.246362</td>\n",
              "      <td>1</td>\n",
              "      <td>2</td>\n",
              "      <td>1</td>\n",
              "      <td>0</td>\n",
              "    </tr>\n",
              "  </tbody>\n",
              "</table>\n",
              "</div>\n",
              "    <div class=\"colab-df-buttons\">\n",
              "\n",
              "  <div class=\"colab-df-container\">\n",
              "    <button class=\"colab-df-convert\" onclick=\"convertToInteractive('df-e391af7e-1ef9-4c28-bd2e-bc20dfe3a200')\"\n",
              "            title=\"Convert this dataframe to an interactive table.\"\n",
              "            style=\"display:none;\">\n",
              "\n",
              "  <svg xmlns=\"http://www.w3.org/2000/svg\" height=\"24px\" viewBox=\"0 -960 960 960\">\n",
              "    <path d=\"M120-120v-720h720v720H120Zm60-500h600v-160H180v160Zm220 220h160v-160H400v160Zm0 220h160v-160H400v160ZM180-400h160v-160H180v160Zm440 0h160v-160H620v160ZM180-180h160v-160H180v160Zm440 0h160v-160H620v160Z\"/>\n",
              "  </svg>\n",
              "    </button>\n",
              "\n",
              "  <style>\n",
              "    .colab-df-container {\n",
              "      display:flex;\n",
              "      gap: 12px;\n",
              "    }\n",
              "\n",
              "    .colab-df-convert {\n",
              "      background-color: #E8F0FE;\n",
              "      border: none;\n",
              "      border-radius: 50%;\n",
              "      cursor: pointer;\n",
              "      display: none;\n",
              "      fill: #1967D2;\n",
              "      height: 32px;\n",
              "      padding: 0 0 0 0;\n",
              "      width: 32px;\n",
              "    }\n",
              "\n",
              "    .colab-df-convert:hover {\n",
              "      background-color: #E2EBFA;\n",
              "      box-shadow: 0px 1px 2px rgba(60, 64, 67, 0.3), 0px 1px 3px 1px rgba(60, 64, 67, 0.15);\n",
              "      fill: #174EA6;\n",
              "    }\n",
              "\n",
              "    .colab-df-buttons div {\n",
              "      margin-bottom: 4px;\n",
              "    }\n",
              "\n",
              "    [theme=dark] .colab-df-convert {\n",
              "      background-color: #3B4455;\n",
              "      fill: #D2E3FC;\n",
              "    }\n",
              "\n",
              "    [theme=dark] .colab-df-convert:hover {\n",
              "      background-color: #434B5C;\n",
              "      box-shadow: 0px 1px 3px 1px rgba(0, 0, 0, 0.15);\n",
              "      filter: drop-shadow(0px 1px 2px rgba(0, 0, 0, 0.3));\n",
              "      fill: #FFFFFF;\n",
              "    }\n",
              "  </style>\n",
              "\n",
              "    <script>\n",
              "      const buttonEl =\n",
              "        document.querySelector('#df-e391af7e-1ef9-4c28-bd2e-bc20dfe3a200 button.colab-df-convert');\n",
              "      buttonEl.style.display =\n",
              "        google.colab.kernel.accessAllowed ? 'block' : 'none';\n",
              "\n",
              "      async function convertToInteractive(key) {\n",
              "        const element = document.querySelector('#df-e391af7e-1ef9-4c28-bd2e-bc20dfe3a200');\n",
              "        const dataTable =\n",
              "          await google.colab.kernel.invokeFunction('convertToInteractive',\n",
              "                                                    [key], {});\n",
              "        if (!dataTable) return;\n",
              "\n",
              "        const docLinkHtml = 'Like what you see? Visit the ' +\n",
              "          '<a target=\"_blank\" href=https://colab.research.google.com/notebooks/data_table.ipynb>data table notebook</a>'\n",
              "          + ' to learn more about interactive tables.';\n",
              "        element.innerHTML = '';\n",
              "        dataTable['output_type'] = 'display_data';\n",
              "        await google.colab.output.renderOutput(dataTable, element);\n",
              "        const docLink = document.createElement('div');\n",
              "        docLink.innerHTML = docLinkHtml;\n",
              "        element.appendChild(docLink);\n",
              "      }\n",
              "    </script>\n",
              "  </div>\n",
              "\n",
              "\n",
              "<div id=\"df-8f5c7a91-4401-466c-8374-5e2043e794ea\">\n",
              "  <button class=\"colab-df-quickchart\" onclick=\"quickchart('df-8f5c7a91-4401-466c-8374-5e2043e794ea')\"\n",
              "            title=\"Suggest charts\"\n",
              "            style=\"display:none;\">\n",
              "\n",
              "<svg xmlns=\"http://www.w3.org/2000/svg\" height=\"24px\"viewBox=\"0 0 24 24\"\n",
              "     width=\"24px\">\n",
              "    <g>\n",
              "        <path d=\"M19 3H5c-1.1 0-2 .9-2 2v14c0 1.1.9 2 2 2h14c1.1 0 2-.9 2-2V5c0-1.1-.9-2-2-2zM9 17H7v-7h2v7zm4 0h-2V7h2v10zm4 0h-2v-4h2v4z\"/>\n",
              "    </g>\n",
              "</svg>\n",
              "  </button>\n",
              "\n",
              "<style>\n",
              "  .colab-df-quickchart {\n",
              "      --bg-color: #E8F0FE;\n",
              "      --fill-color: #1967D2;\n",
              "      --hover-bg-color: #E2EBFA;\n",
              "      --hover-fill-color: #174EA6;\n",
              "      --disabled-fill-color: #AAA;\n",
              "      --disabled-bg-color: #DDD;\n",
              "  }\n",
              "\n",
              "  [theme=dark] .colab-df-quickchart {\n",
              "      --bg-color: #3B4455;\n",
              "      --fill-color: #D2E3FC;\n",
              "      --hover-bg-color: #434B5C;\n",
              "      --hover-fill-color: #FFFFFF;\n",
              "      --disabled-bg-color: #3B4455;\n",
              "      --disabled-fill-color: #666;\n",
              "  }\n",
              "\n",
              "  .colab-df-quickchart {\n",
              "    background-color: var(--bg-color);\n",
              "    border: none;\n",
              "    border-radius: 50%;\n",
              "    cursor: pointer;\n",
              "    display: none;\n",
              "    fill: var(--fill-color);\n",
              "    height: 32px;\n",
              "    padding: 0;\n",
              "    width: 32px;\n",
              "  }\n",
              "\n",
              "  .colab-df-quickchart:hover {\n",
              "    background-color: var(--hover-bg-color);\n",
              "    box-shadow: 0 1px 2px rgba(60, 64, 67, 0.3), 0 1px 3px 1px rgba(60, 64, 67, 0.15);\n",
              "    fill: var(--button-hover-fill-color);\n",
              "  }\n",
              "\n",
              "  .colab-df-quickchart-complete:disabled,\n",
              "  .colab-df-quickchart-complete:disabled:hover {\n",
              "    background-color: var(--disabled-bg-color);\n",
              "    fill: var(--disabled-fill-color);\n",
              "    box-shadow: none;\n",
              "  }\n",
              "\n",
              "  .colab-df-spinner {\n",
              "    border: 2px solid var(--fill-color);\n",
              "    border-color: transparent;\n",
              "    border-bottom-color: var(--fill-color);\n",
              "    animation:\n",
              "      spin 1s steps(1) infinite;\n",
              "  }\n",
              "\n",
              "  @keyframes spin {\n",
              "    0% {\n",
              "      border-color: transparent;\n",
              "      border-bottom-color: var(--fill-color);\n",
              "      border-left-color: var(--fill-color);\n",
              "    }\n",
              "    20% {\n",
              "      border-color: transparent;\n",
              "      border-left-color: var(--fill-color);\n",
              "      border-top-color: var(--fill-color);\n",
              "    }\n",
              "    30% {\n",
              "      border-color: transparent;\n",
              "      border-left-color: var(--fill-color);\n",
              "      border-top-color: var(--fill-color);\n",
              "      border-right-color: var(--fill-color);\n",
              "    }\n",
              "    40% {\n",
              "      border-color: transparent;\n",
              "      border-right-color: var(--fill-color);\n",
              "      border-top-color: var(--fill-color);\n",
              "    }\n",
              "    60% {\n",
              "      border-color: transparent;\n",
              "      border-right-color: var(--fill-color);\n",
              "    }\n",
              "    80% {\n",
              "      border-color: transparent;\n",
              "      border-right-color: var(--fill-color);\n",
              "      border-bottom-color: var(--fill-color);\n",
              "    }\n",
              "    90% {\n",
              "      border-color: transparent;\n",
              "      border-bottom-color: var(--fill-color);\n",
              "    }\n",
              "  }\n",
              "</style>\n",
              "\n",
              "  <script>\n",
              "    async function quickchart(key) {\n",
              "      const quickchartButtonEl =\n",
              "        document.querySelector('#' + key + ' button');\n",
              "      quickchartButtonEl.disabled = true;  // To prevent multiple clicks.\n",
              "      quickchartButtonEl.classList.add('colab-df-spinner');\n",
              "      try {\n",
              "        const charts = await google.colab.kernel.invokeFunction(\n",
              "            'suggestCharts', [key], {});\n",
              "      } catch (error) {\n",
              "        console.error('Error during call to suggestCharts:', error);\n",
              "      }\n",
              "      quickchartButtonEl.classList.remove('colab-df-spinner');\n",
              "      quickchartButtonEl.classList.add('colab-df-quickchart-complete');\n",
              "    }\n",
              "    (() => {\n",
              "      let quickchartButtonEl =\n",
              "        document.querySelector('#df-8f5c7a91-4401-466c-8374-5e2043e794ea button');\n",
              "      quickchartButtonEl.style.display =\n",
              "        google.colab.kernel.accessAllowed ? 'block' : 'none';\n",
              "    })();\n",
              "  </script>\n",
              "</div>\n",
              "\n",
              "    </div>\n",
              "  </div>\n"
            ],
            "application/vnd.google.colaboratory.intrinsic+json": {
              "type": "dataframe",
              "variable_name": "data",
              "summary": "{\n  \"name\": \"data\",\n  \"rows\": 1000,\n  \"fields\": [\n    {\n      \"column\": \"Gender\",\n      \"properties\": {\n        \"dtype\": \"category\",\n        \"num_unique_values\": 2,\n        \"samples\": [\n          \"female\",\n          \"male\"\n        ],\n        \"semantic_type\": \"\",\n        \"description\": \"\"\n      }\n    },\n    {\n      \"column\": \"Age\",\n      \"properties\": {\n        \"dtype\": \"number\",\n        \"std\": 15,\n        \"min\": 18,\n        \"max\": 69,\n        \"num_unique_values\": 52,\n        \"samples\": [\n          67,\n          56\n        ],\n        \"semantic_type\": \"\",\n        \"description\": \"\"\n      }\n    },\n    {\n      \"column\": \"Tenure\",\n      \"properties\": {\n        \"dtype\": \"number\",\n        \"std\": 20,\n        \"min\": 1,\n        \"max\": 71,\n        \"num_unique_values\": 71,\n        \"samples\": [\n          6,\n          11\n        ],\n        \"semantic_type\": \"\",\n        \"description\": \"\"\n      }\n    },\n    {\n      \"column\": \"ServiceTier\",\n      \"properties\": {\n        \"dtype\": \"category\",\n        \"num_unique_values\": 3,\n        \"samples\": [\n          \"premium\",\n          \"standard\"\n        ],\n        \"semantic_type\": \"\",\n        \"description\": \"\"\n      }\n    },\n    {\n      \"column\": \"MonthlyCharge\",\n      \"properties\": {\n        \"dtype\": \"number\",\n        \"std\": 28.70888548953107,\n        \"min\": 10.039293214222178,\n        \"max\": 99.95000137565268,\n        \"num_unique_values\": 1000,\n        \"samples\": [\n          17.040856686423353,\n          44.54848727416912\n        ],\n        \"semantic_type\": \"\",\n        \"description\": \"\"\n      }\n    },\n    {\n      \"column\": \"TotalCharges\",\n      \"properties\": {\n        \"dtype\": \"number\",\n        \"std\": 1350.2658484028823,\n        \"min\": 12.79442422235894,\n        \"max\": 6863.881851242266,\n        \"num_unique_values\": 1000,\n        \"samples\": [\n          596.4299840248174,\n          1514.64856732175\n        ],\n        \"semantic_type\": \"\",\n        \"description\": \"\"\n      }\n    },\n    {\n      \"column\": \"NumSupportTickets\",\n      \"properties\": {\n        \"dtype\": \"number\",\n        \"std\": 2,\n        \"min\": 0,\n        \"max\": 12,\n        \"num_unique_values\": 13,\n        \"samples\": [\n          11,\n          12\n        ],\n        \"semantic_type\": \"\",\n        \"description\": \"\"\n      }\n    },\n    {\n      \"column\": \"NumDeviceTypes\",\n      \"properties\": {\n        \"dtype\": \"number\",\n        \"std\": 1,\n        \"min\": 1,\n        \"max\": 4,\n        \"num_unique_values\": 4,\n        \"samples\": [\n          2,\n          1\n        ],\n        \"semantic_type\": \"\",\n        \"description\": \"\"\n      }\n    },\n    {\n      \"column\": \"SatisfactionScore\",\n      \"properties\": {\n        \"dtype\": \"number\",\n        \"std\": 1,\n        \"min\": 1,\n        \"max\": 5,\n        \"num_unique_values\": 5,\n        \"samples\": [\n          3,\n          5\n        ],\n        \"semantic_type\": \"\",\n        \"description\": \"\"\n      }\n    },\n    {\n      \"column\": \"Churn\",\n      \"properties\": {\n        \"dtype\": \"number\",\n        \"std\": 0,\n        \"min\": 0,\n        \"max\": 1,\n        \"num_unique_values\": 2,\n        \"samples\": [\n          0,\n          1\n        ],\n        \"semantic_type\": \"\",\n        \"description\": \"\"\n      }\n    }\n  ]\n}"
            }
          },
          "metadata": {},
          "execution_count": 795
        }
      ]
    },
    {
      "cell_type": "markdown",
      "source": [
        "# Compute Correlation\n",
        "Bu yerda biz ma'lumotlarimizdagi Chrun ustunini qolgan ustunlarga nisbatini ko'rishimiz mumkin. Bu yerda ahamiyatlisi ma'lumotlarimiz Chrun s=ustuniga unchalikham bog'liq emasligini ko'rishimiz mumkin."
      ],
      "metadata": {
        "id": "oij4zLAomhJp"
      }
    },
    {
      "cell_type": "code",
      "source": [
        "encoded = data\n",
        "encoded.corrwith(encoded['Churn']).abs().sort_values(ascending=False)"
      ],
      "metadata": {
        "colab": {
          "base_uri": "https://localhost:8080/"
        },
        "id": "z-4CKvqUXeVC",
        "outputId": "4efb9069-0466-440d-a2af-500fe77315cc"
      },
      "execution_count": 796,
      "outputs": [
        {
          "output_type": "stream",
          "name": "stderr",
          "text": [
            "<ipython-input-796-f08a2c905f0d>:2: FutureWarning: The default value of numeric_only in DataFrame.corrwith is deprecated. In a future version, it will default to False. Select only valid columns or specify the value of numeric_only to silence this warning.\n",
            "  encoded.corrwith(encoded['Churn']).abs().sort_values(ascending=False)\n"
          ]
        },
        {
          "output_type": "execute_result",
          "data": {
            "text/plain": [
              "Churn                1.000000\n",
              "NumDeviceTypes       0.077861\n",
              "SatisfactionScore    0.023418\n",
              "Tenure               0.020220\n",
              "NumSupportTickets    0.016699\n",
              "MonthlyCharge        0.014882\n",
              "TotalCharges         0.008288\n",
              "Age                  0.002507\n",
              "dtype: float64"
            ]
          },
          "metadata": {},
          "execution_count": 796
        }
      ]
    },
    {
      "cell_type": "markdown",
      "source": [
        "#Splitting data\n",
        "\n",
        "Biz bu yerda modelimiz predict qilish uchun ma'lumotlarni olamiz va ma'lumotlarni encoding qilamiz. Ma'lumotlarni olishda correlatsiya kam chiqganligi uchunham faqt=atgina kerakli ma'lumotlarni olamiz."
      ],
      "metadata": {
        "id": "P20GSf2OnROx"
      }
    },
    {
      "cell_type": "code",
      "source": [
        "X = encoded[['NumDeviceTypes', 'ServiceTier', 'SatisfactionScore', 'Tenure']]\n",
        "y = encoded['Churn']\n",
        "X = pd.get_dummies(X)\n",
        "X = pd.get_dummies(X, columns = ['SatisfactionScore'])\n",
        "X.head()"
      ],
      "metadata": {
        "id": "ut7m4I4QXeTg",
        "colab": {
          "base_uri": "https://localhost:8080/",
          "height": 226
        },
        "outputId": "7aeadba8-3acc-4717-875f-08806264c2f3"
      },
      "execution_count": 797,
      "outputs": [
        {
          "output_type": "execute_result",
          "data": {
            "text/plain": [
              "   NumDeviceTypes  Tenure  ServiceTier_basic  ServiceTier_premium  \\\n",
              "0               3      11                  0                    1   \n",
              "1               2      56                  0                    0   \n",
              "2               3      67                  0                    0   \n",
              "3               2      29                  0                    0   \n",
              "4               2       9                  0                    1   \n",
              "\n",
              "   ServiceTier_standard  SatisfactionScore_1  SatisfactionScore_2  \\\n",
              "0                     0                    0                    0   \n",
              "1                     1                    0                    0   \n",
              "2                     1                    0                    1   \n",
              "3                     1                    0                    1   \n",
              "4                     0                    1                    0   \n",
              "\n",
              "   SatisfactionScore_3  SatisfactionScore_4  SatisfactionScore_5  \n",
              "0                    0                    1                    0  \n",
              "1                    1                    0                    0  \n",
              "2                    0                    0                    0  \n",
              "3                    0                    0                    0  \n",
              "4                    0                    0                    0  "
            ],
            "text/html": [
              "\n",
              "  <div id=\"df-0c6c1ce9-1851-4960-86c1-64a3962ccb6c\" class=\"colab-df-container\">\n",
              "    <div>\n",
              "<style scoped>\n",
              "    .dataframe tbody tr th:only-of-type {\n",
              "        vertical-align: middle;\n",
              "    }\n",
              "\n",
              "    .dataframe tbody tr th {\n",
              "        vertical-align: top;\n",
              "    }\n",
              "\n",
              "    .dataframe thead th {\n",
              "        text-align: right;\n",
              "    }\n",
              "</style>\n",
              "<table border=\"1\" class=\"dataframe\">\n",
              "  <thead>\n",
              "    <tr style=\"text-align: right;\">\n",
              "      <th></th>\n",
              "      <th>NumDeviceTypes</th>\n",
              "      <th>Tenure</th>\n",
              "      <th>ServiceTier_basic</th>\n",
              "      <th>ServiceTier_premium</th>\n",
              "      <th>ServiceTier_standard</th>\n",
              "      <th>SatisfactionScore_1</th>\n",
              "      <th>SatisfactionScore_2</th>\n",
              "      <th>SatisfactionScore_3</th>\n",
              "      <th>SatisfactionScore_4</th>\n",
              "      <th>SatisfactionScore_5</th>\n",
              "    </tr>\n",
              "  </thead>\n",
              "  <tbody>\n",
              "    <tr>\n",
              "      <th>0</th>\n",
              "      <td>3</td>\n",
              "      <td>11</td>\n",
              "      <td>0</td>\n",
              "      <td>1</td>\n",
              "      <td>0</td>\n",
              "      <td>0</td>\n",
              "      <td>0</td>\n",
              "      <td>0</td>\n",
              "      <td>1</td>\n",
              "      <td>0</td>\n",
              "    </tr>\n",
              "    <tr>\n",
              "      <th>1</th>\n",
              "      <td>2</td>\n",
              "      <td>56</td>\n",
              "      <td>0</td>\n",
              "      <td>0</td>\n",
              "      <td>1</td>\n",
              "      <td>0</td>\n",
              "      <td>0</td>\n",
              "      <td>1</td>\n",
              "      <td>0</td>\n",
              "      <td>0</td>\n",
              "    </tr>\n",
              "    <tr>\n",
              "      <th>2</th>\n",
              "      <td>3</td>\n",
              "      <td>67</td>\n",
              "      <td>0</td>\n",
              "      <td>0</td>\n",
              "      <td>1</td>\n",
              "      <td>0</td>\n",
              "      <td>1</td>\n",
              "      <td>0</td>\n",
              "      <td>0</td>\n",
              "      <td>0</td>\n",
              "    </tr>\n",
              "    <tr>\n",
              "      <th>3</th>\n",
              "      <td>2</td>\n",
              "      <td>29</td>\n",
              "      <td>0</td>\n",
              "      <td>0</td>\n",
              "      <td>1</td>\n",
              "      <td>0</td>\n",
              "      <td>1</td>\n",
              "      <td>0</td>\n",
              "      <td>0</td>\n",
              "      <td>0</td>\n",
              "    </tr>\n",
              "    <tr>\n",
              "      <th>4</th>\n",
              "      <td>2</td>\n",
              "      <td>9</td>\n",
              "      <td>0</td>\n",
              "      <td>1</td>\n",
              "      <td>0</td>\n",
              "      <td>1</td>\n",
              "      <td>0</td>\n",
              "      <td>0</td>\n",
              "      <td>0</td>\n",
              "      <td>0</td>\n",
              "    </tr>\n",
              "  </tbody>\n",
              "</table>\n",
              "</div>\n",
              "    <div class=\"colab-df-buttons\">\n",
              "\n",
              "  <div class=\"colab-df-container\">\n",
              "    <button class=\"colab-df-convert\" onclick=\"convertToInteractive('df-0c6c1ce9-1851-4960-86c1-64a3962ccb6c')\"\n",
              "            title=\"Convert this dataframe to an interactive table.\"\n",
              "            style=\"display:none;\">\n",
              "\n",
              "  <svg xmlns=\"http://www.w3.org/2000/svg\" height=\"24px\" viewBox=\"0 -960 960 960\">\n",
              "    <path d=\"M120-120v-720h720v720H120Zm60-500h600v-160H180v160Zm220 220h160v-160H400v160Zm0 220h160v-160H400v160ZM180-400h160v-160H180v160Zm440 0h160v-160H620v160ZM180-180h160v-160H180v160Zm440 0h160v-160H620v160Z\"/>\n",
              "  </svg>\n",
              "    </button>\n",
              "\n",
              "  <style>\n",
              "    .colab-df-container {\n",
              "      display:flex;\n",
              "      gap: 12px;\n",
              "    }\n",
              "\n",
              "    .colab-df-convert {\n",
              "      background-color: #E8F0FE;\n",
              "      border: none;\n",
              "      border-radius: 50%;\n",
              "      cursor: pointer;\n",
              "      display: none;\n",
              "      fill: #1967D2;\n",
              "      height: 32px;\n",
              "      padding: 0 0 0 0;\n",
              "      width: 32px;\n",
              "    }\n",
              "\n",
              "    .colab-df-convert:hover {\n",
              "      background-color: #E2EBFA;\n",
              "      box-shadow: 0px 1px 2px rgba(60, 64, 67, 0.3), 0px 1px 3px 1px rgba(60, 64, 67, 0.15);\n",
              "      fill: #174EA6;\n",
              "    }\n",
              "\n",
              "    .colab-df-buttons div {\n",
              "      margin-bottom: 4px;\n",
              "    }\n",
              "\n",
              "    [theme=dark] .colab-df-convert {\n",
              "      background-color: #3B4455;\n",
              "      fill: #D2E3FC;\n",
              "    }\n",
              "\n",
              "    [theme=dark] .colab-df-convert:hover {\n",
              "      background-color: #434B5C;\n",
              "      box-shadow: 0px 1px 3px 1px rgba(0, 0, 0, 0.15);\n",
              "      filter: drop-shadow(0px 1px 2px rgba(0, 0, 0, 0.3));\n",
              "      fill: #FFFFFF;\n",
              "    }\n",
              "  </style>\n",
              "\n",
              "    <script>\n",
              "      const buttonEl =\n",
              "        document.querySelector('#df-0c6c1ce9-1851-4960-86c1-64a3962ccb6c button.colab-df-convert');\n",
              "      buttonEl.style.display =\n",
              "        google.colab.kernel.accessAllowed ? 'block' : 'none';\n",
              "\n",
              "      async function convertToInteractive(key) {\n",
              "        const element = document.querySelector('#df-0c6c1ce9-1851-4960-86c1-64a3962ccb6c');\n",
              "        const dataTable =\n",
              "          await google.colab.kernel.invokeFunction('convertToInteractive',\n",
              "                                                    [key], {});\n",
              "        if (!dataTable) return;\n",
              "\n",
              "        const docLinkHtml = 'Like what you see? Visit the ' +\n",
              "          '<a target=\"_blank\" href=https://colab.research.google.com/notebooks/data_table.ipynb>data table notebook</a>'\n",
              "          + ' to learn more about interactive tables.';\n",
              "        element.innerHTML = '';\n",
              "        dataTable['output_type'] = 'display_data';\n",
              "        await google.colab.output.renderOutput(dataTable, element);\n",
              "        const docLink = document.createElement('div');\n",
              "        docLink.innerHTML = docLinkHtml;\n",
              "        element.appendChild(docLink);\n",
              "      }\n",
              "    </script>\n",
              "  </div>\n",
              "\n",
              "\n",
              "<div id=\"df-ac0e7a00-56bc-433e-a8ef-593dbafbb38c\">\n",
              "  <button class=\"colab-df-quickchart\" onclick=\"quickchart('df-ac0e7a00-56bc-433e-a8ef-593dbafbb38c')\"\n",
              "            title=\"Suggest charts\"\n",
              "            style=\"display:none;\">\n",
              "\n",
              "<svg xmlns=\"http://www.w3.org/2000/svg\" height=\"24px\"viewBox=\"0 0 24 24\"\n",
              "     width=\"24px\">\n",
              "    <g>\n",
              "        <path d=\"M19 3H5c-1.1 0-2 .9-2 2v14c0 1.1.9 2 2 2h14c1.1 0 2-.9 2-2V5c0-1.1-.9-2-2-2zM9 17H7v-7h2v7zm4 0h-2V7h2v10zm4 0h-2v-4h2v4z\"/>\n",
              "    </g>\n",
              "</svg>\n",
              "  </button>\n",
              "\n",
              "<style>\n",
              "  .colab-df-quickchart {\n",
              "      --bg-color: #E8F0FE;\n",
              "      --fill-color: #1967D2;\n",
              "      --hover-bg-color: #E2EBFA;\n",
              "      --hover-fill-color: #174EA6;\n",
              "      --disabled-fill-color: #AAA;\n",
              "      --disabled-bg-color: #DDD;\n",
              "  }\n",
              "\n",
              "  [theme=dark] .colab-df-quickchart {\n",
              "      --bg-color: #3B4455;\n",
              "      --fill-color: #D2E3FC;\n",
              "      --hover-bg-color: #434B5C;\n",
              "      --hover-fill-color: #FFFFFF;\n",
              "      --disabled-bg-color: #3B4455;\n",
              "      --disabled-fill-color: #666;\n",
              "  }\n",
              "\n",
              "  .colab-df-quickchart {\n",
              "    background-color: var(--bg-color);\n",
              "    border: none;\n",
              "    border-radius: 50%;\n",
              "    cursor: pointer;\n",
              "    display: none;\n",
              "    fill: var(--fill-color);\n",
              "    height: 32px;\n",
              "    padding: 0;\n",
              "    width: 32px;\n",
              "  }\n",
              "\n",
              "  .colab-df-quickchart:hover {\n",
              "    background-color: var(--hover-bg-color);\n",
              "    box-shadow: 0 1px 2px rgba(60, 64, 67, 0.3), 0 1px 3px 1px rgba(60, 64, 67, 0.15);\n",
              "    fill: var(--button-hover-fill-color);\n",
              "  }\n",
              "\n",
              "  .colab-df-quickchart-complete:disabled,\n",
              "  .colab-df-quickchart-complete:disabled:hover {\n",
              "    background-color: var(--disabled-bg-color);\n",
              "    fill: var(--disabled-fill-color);\n",
              "    box-shadow: none;\n",
              "  }\n",
              "\n",
              "  .colab-df-spinner {\n",
              "    border: 2px solid var(--fill-color);\n",
              "    border-color: transparent;\n",
              "    border-bottom-color: var(--fill-color);\n",
              "    animation:\n",
              "      spin 1s steps(1) infinite;\n",
              "  }\n",
              "\n",
              "  @keyframes spin {\n",
              "    0% {\n",
              "      border-color: transparent;\n",
              "      border-bottom-color: var(--fill-color);\n",
              "      border-left-color: var(--fill-color);\n",
              "    }\n",
              "    20% {\n",
              "      border-color: transparent;\n",
              "      border-left-color: var(--fill-color);\n",
              "      border-top-color: var(--fill-color);\n",
              "    }\n",
              "    30% {\n",
              "      border-color: transparent;\n",
              "      border-left-color: var(--fill-color);\n",
              "      border-top-color: var(--fill-color);\n",
              "      border-right-color: var(--fill-color);\n",
              "    }\n",
              "    40% {\n",
              "      border-color: transparent;\n",
              "      border-right-color: var(--fill-color);\n",
              "      border-top-color: var(--fill-color);\n",
              "    }\n",
              "    60% {\n",
              "      border-color: transparent;\n",
              "      border-right-color: var(--fill-color);\n",
              "    }\n",
              "    80% {\n",
              "      border-color: transparent;\n",
              "      border-right-color: var(--fill-color);\n",
              "      border-bottom-color: var(--fill-color);\n",
              "    }\n",
              "    90% {\n",
              "      border-color: transparent;\n",
              "      border-bottom-color: var(--fill-color);\n",
              "    }\n",
              "  }\n",
              "</style>\n",
              "\n",
              "  <script>\n",
              "    async function quickchart(key) {\n",
              "      const quickchartButtonEl =\n",
              "        document.querySelector('#' + key + ' button');\n",
              "      quickchartButtonEl.disabled = true;  // To prevent multiple clicks.\n",
              "      quickchartButtonEl.classList.add('colab-df-spinner');\n",
              "      try {\n",
              "        const charts = await google.colab.kernel.invokeFunction(\n",
              "            'suggestCharts', [key], {});\n",
              "      } catch (error) {\n",
              "        console.error('Error during call to suggestCharts:', error);\n",
              "      }\n",
              "      quickchartButtonEl.classList.remove('colab-df-spinner');\n",
              "      quickchartButtonEl.classList.add('colab-df-quickchart-complete');\n",
              "    }\n",
              "    (() => {\n",
              "      let quickchartButtonEl =\n",
              "        document.querySelector('#df-ac0e7a00-56bc-433e-a8ef-593dbafbb38c button');\n",
              "      quickchartButtonEl.style.display =\n",
              "        google.colab.kernel.accessAllowed ? 'block' : 'none';\n",
              "    })();\n",
              "  </script>\n",
              "</div>\n",
              "\n",
              "    </div>\n",
              "  </div>\n"
            ],
            "application/vnd.google.colaboratory.intrinsic+json": {
              "type": "dataframe",
              "variable_name": "X",
              "summary": "{\n  \"name\": \"X\",\n  \"rows\": 1000,\n  \"fields\": [\n    {\n      \"column\": \"NumDeviceTypes\",\n      \"properties\": {\n        \"dtype\": \"number\",\n        \"std\": 1,\n        \"min\": 1,\n        \"max\": 4,\n        \"num_unique_values\": 4,\n        \"samples\": [\n          2,\n          1,\n          3\n        ],\n        \"semantic_type\": \"\",\n        \"description\": \"\"\n      }\n    },\n    {\n      \"column\": \"Tenure\",\n      \"properties\": {\n        \"dtype\": \"number\",\n        \"std\": 20,\n        \"min\": 1,\n        \"max\": 71,\n        \"num_unique_values\": 71,\n        \"samples\": [\n          6,\n          11,\n          14\n        ],\n        \"semantic_type\": \"\",\n        \"description\": \"\"\n      }\n    },\n    {\n      \"column\": \"ServiceTier_basic\",\n      \"properties\": {\n        \"dtype\": \"uint8\",\n        \"num_unique_values\": 2,\n        \"samples\": [\n          1,\n          0\n        ],\n        \"semantic_type\": \"\",\n        \"description\": \"\"\n      }\n    },\n    {\n      \"column\": \"ServiceTier_premium\",\n      \"properties\": {\n        \"dtype\": \"uint8\",\n        \"num_unique_values\": 2,\n        \"samples\": [\n          0,\n          1\n        ],\n        \"semantic_type\": \"\",\n        \"description\": \"\"\n      }\n    },\n    {\n      \"column\": \"ServiceTier_standard\",\n      \"properties\": {\n        \"dtype\": \"uint8\",\n        \"num_unique_values\": 2,\n        \"samples\": [\n          1,\n          0\n        ],\n        \"semantic_type\": \"\",\n        \"description\": \"\"\n      }\n    },\n    {\n      \"column\": \"SatisfactionScore_1\",\n      \"properties\": {\n        \"dtype\": \"uint8\",\n        \"num_unique_values\": 2,\n        \"samples\": [\n          1,\n          0\n        ],\n        \"semantic_type\": \"\",\n        \"description\": \"\"\n      }\n    },\n    {\n      \"column\": \"SatisfactionScore_2\",\n      \"properties\": {\n        \"dtype\": \"uint8\",\n        \"num_unique_values\": 2,\n        \"samples\": [\n          1,\n          0\n        ],\n        \"semantic_type\": \"\",\n        \"description\": \"\"\n      }\n    },\n    {\n      \"column\": \"SatisfactionScore_3\",\n      \"properties\": {\n        \"dtype\": \"uint8\",\n        \"num_unique_values\": 2,\n        \"samples\": [\n          1,\n          0\n        ],\n        \"semantic_type\": \"\",\n        \"description\": \"\"\n      }\n    },\n    {\n      \"column\": \"SatisfactionScore_4\",\n      \"properties\": {\n        \"dtype\": \"uint8\",\n        \"num_unique_values\": 2,\n        \"samples\": [\n          0,\n          1\n        ],\n        \"semantic_type\": \"\",\n        \"description\": \"\"\n      }\n    },\n    {\n      \"column\": \"SatisfactionScore_5\",\n      \"properties\": {\n        \"dtype\": \"uint8\",\n        \"num_unique_values\": 2,\n        \"samples\": [\n          1,\n          0\n        ],\n        \"semantic_type\": \"\",\n        \"description\": \"\"\n      }\n    }\n  ]\n}"
            }
          },
          "metadata": {},
          "execution_count": 797
        }
      ]
    },
    {
      "cell_type": "markdown",
      "source": [
        "# StandarScaler\n",
        "\n",
        "bu yerda ma'lumotlarni bashorat qilish uchun test va train qisimlarga bo'lib oldik"
      ],
      "metadata": {
        "id": "WfsvtTo6qrdi"
      }
    },
    {
      "cell_type": "code",
      "source": [
        "from sklearn.preprocessing import StandardScaler\n",
        "scaler = StandardScaler()\n",
        "X = scaler.fit_transform(X)\n",
        "X_train, X_test, y_train, y_test=train_test_split(X, y, test_size=0.2, stratify=y, random_state=3)"
      ],
      "metadata": {
        "id": "AnD-Fwo_pj0O"
      },
      "execution_count": 798,
      "outputs": []
    },
    {
      "cell_type": "markdown",
      "source": [
        "# LogisticRegression"
      ],
      "metadata": {
        "id": "V5ZzLYwwrQoL"
      }
    },
    {
      "cell_type": "code",
      "source": [
        "from sklearn.linear_model import LogisticRegression\n",
        "from sklearn.datasets import load_iris\n",
        "from sklearn import metrics\n",
        "# Modelni yaratamiz (training)\n",
        "LR_model = LogisticRegression()\n",
        "LR_model.fit(X_train, y_train)\n",
        "\n",
        "# Modelni baholaymiz\n",
        "y_pred = LR_model.predict(X_test)\n",
        "print(metrics.classification_report(y_test, y_pred))\n",
        "print(\"Model aniqligi:\", metrics.accuracy_score(y_test,y_pred))\n",
        "\n",
        "## confusion matrix\n",
        "conf_mat = metrics.confusion_matrix(y_test, y_pred)\n",
        "sns.heatmap(conf_mat, annot=True,fmt=\"g\")\n",
        "plt.show()\n",
        "\n",
        "## ROC curve\n",
        "fpr, tpr, thresholds = metrics.roc_curve(y_test, y_pred)\n",
        "roc_auc = metrics.auc(fpr, tpr)\n",
        "display = metrics.RocCurveDisplay(fpr=fpr, tpr=tpr, roc_auc=roc_auc, estimator_name='ROC curve')\n",
        "display.plot()\n",
        "plt.show()"
      ],
      "metadata": {
        "colab": {
          "base_uri": "https://localhost:8080/",
          "height": 1000
        },
        "id": "VRXVPw7-XePU",
        "outputId": "dddcb49c-a46a-4396-b75e-b77896ae9d49"
      },
      "execution_count": 805,
      "outputs": [
        {
          "output_type": "stream",
          "name": "stderr",
          "text": [
            "/usr/local/lib/python3.10/dist-packages/sklearn/metrics/_classification.py:1344: UndefinedMetricWarning: Precision and F-score are ill-defined and being set to 0.0 in labels with no predicted samples. Use `zero_division` parameter to control this behavior.\n",
            "  _warn_prf(average, modifier, msg_start, len(result))\n",
            "/usr/local/lib/python3.10/dist-packages/sklearn/metrics/_classification.py:1344: UndefinedMetricWarning: Precision and F-score are ill-defined and being set to 0.0 in labels with no predicted samples. Use `zero_division` parameter to control this behavior.\n",
            "  _warn_prf(average, modifier, msg_start, len(result))\n",
            "/usr/local/lib/python3.10/dist-packages/sklearn/metrics/_classification.py:1344: UndefinedMetricWarning: Precision and F-score are ill-defined and being set to 0.0 in labels with no predicted samples. Use `zero_division` parameter to control this behavior.\n",
            "  _warn_prf(average, modifier, msg_start, len(result))\n"
          ]
        },
        {
          "output_type": "stream",
          "name": "stdout",
          "text": [
            "              precision    recall  f1-score   support\n",
            "\n",
            "           0       0.81      1.00      0.89       161\n",
            "           1       0.00      0.00      0.00        39\n",
            "\n",
            "    accuracy                           0.81       200\n",
            "   macro avg       0.40      0.50      0.45       200\n",
            "weighted avg       0.65      0.81      0.72       200\n",
            "\n",
            "Model aniqligi: 0.805\n"
          ]
        },
        {
          "output_type": "display_data",
          "data": {
            "text/plain": [
              "<Figure size 640x480 with 2 Axes>"
            ],
            "image/png": "[encoded data removed]"
          },
          "metadata": {}
        },
        {
          "output_type": "display_data",
          "data": {
            "text/plain": [
              "<Figure size 640x480 with 1 Axes>"
            ],
            "image/png": "[encoded data removed]"
          },
          "metadata": {}
        }
      ]
    },
    {
      "cell_type": "markdown",
      "source": [
        "**LogisticRegression**\n",
        "Bu yerda ko'rishingiz mumkin ushbu modelimiz 81% aniqlikda ishlayapti lekin bashorat qilganda deyarli 39 da 1 yani bekor qiligan obunalarni aniqlay olmagan. Va yuqoridagi X va Y o'qlar bo'ylab joylashgan chiziqham ushbu model yaxshi ishlamayotganini anglitadi. A chiziq qanday holatda bo'lsa model yaxshi ishlayotgan bo'ladi deyilsa chiziq nuqtadan Y o'qi bo'ylab maximal ko'tariladi va X o'qi bo'ylab bir meyorda ketadi"
      ],
      "metadata": {
        "id": "zRJhVb0KrlB6"
      }
    },
    {
      "cell_type": "code",
      "source": [],
      "metadata": {
        "colab": {
          "base_uri": "https://localhost:8080/"
        },
        "id": "ABacDyurzplX",
        "outputId": "c9f6bc00-35c5-4513-c496-f697c42b1fbd"
      },
      "execution_count": 800,
      "outputs": [
        {
          "output_type": "execute_result",
          "data": {
            "text/plain": [
              "0.0"
            ]
          },
          "metadata": {},
          "execution_count": 800
        }
      ]
    },
    {
      "cell_type": "markdown",
      "source": [
        "# DecisionTreeClassifier"
      ],
      "metadata": {
        "id": "J9syRA7ytRqj"
      }
    },
    {
      "cell_type": "code",
      "source": [
        "from sklearn.metrics import classification_report, accuracy_score, confusion_matrix\n",
        "from sklearn.tree import DecisionTreeClassifier, plot_tree\n",
        "# Modelni yaratamiz (training)\n",
        "tree_model = DecisionTreeClassifier()\n",
        "tree_model.fit(X_train, y_train)\n",
        "\n",
        "# Modelni baholaymiz\n",
        "y_pred = tree_model.predict(X_test)\n",
        "print(classification_report(y_test, y_pred))\n",
        "print(f\"Model aniqligi:, {int(accuracy_score(y_test,y_pred)*100)}%\")\n",
        "\n",
        "## confusion matrix\n",
        "conf_mat = confusion_matrix(y_test, y_pred)\n",
        "sns.heatmap(conf_mat, annot=True,fmt=\"g\")\n",
        "plt.show()\n",
        "\n",
        "## ROC curve\n",
        "fpr, tpr, thresholds = metrics.roc_curve(y_test, y_pred)\n",
        "roc_auc = metrics.auc(fpr, tpr)\n",
        "display = metrics.RocCurveDisplay(fpr=fpr, tpr=tpr, roc_auc=roc_auc, estimator_name='ROC curve')\n",
        "display.plot()\n",
        "plt.show()"
      ],
      "metadata": {
        "colab": {
          "base_uri": "https://localhost:8080/",
          "height": 1000
        },
        "id": "6oqj2te1XeNo",
        "outputId": "bd30febe-e5be-48b3-f91e-f59f8725075e"
      },
      "execution_count": 804,
      "outputs": [
        {
          "output_type": "stream",
          "name": "stdout",
          "text": [
            "              precision    recall  f1-score   support\n",
            "\n",
            "           0       0.82      0.86      0.84       161\n",
            "           1       0.29      0.23      0.26        39\n",
            "\n",
            "    accuracy                           0.74       200\n",
            "   macro avg       0.56      0.55      0.55       200\n",
            "weighted avg       0.72      0.74      0.73       200\n",
            "\n",
            "Model aniqligi:, 74%\n"
          ]
        },
        {
          "output_type": "display_data",
          "data": {
            "text/plain": [
              "<Figure size 640x480 with 2 Axes>"
            ],
            "image/png": "[encoded data removed]"
          },
          "metadata": {}
        },
        {
          "output_type": "display_data",
          "data": {
            "text/plain": [
              "<Figure size 640x480 with 1 Axes>"
            ],
            "image/png": "[encoded data removed]"
          },
          "metadata": {}
        }
      ]
    },
    {
      "cell_type": "markdown",
      "source": [
        "DecisionTreeClassifier - ushbu modelimiz 73% aniqlikda bashoraat qilmoqda lekin bunda obunadan chiqganlarni 39 tadan 30 tasini hato bashorat qilmoqda va 161 ta obuna bo'lganlarni 23 tasi obuna bo'lmagan deya bashorat qilmoqda. Bu yerda ko'rishimiz mumkin bizni X va Y o'qi bo'ylab chizilgan ghafigimizda chiziq y o'qi bo'ylab ozgina ko'tarilgan bu esa model ozgina yaxshi ishlayotganini anglatadi."
      ],
      "metadata": {
        "id": "xRvgcle7tbSz"
      }
    },
    {
      "cell_type": "markdown",
      "source": [
        "# TensorFlow"
      ],
      "metadata": {
        "id": "eHPTj4_7uk69"
      }
    },
    {
      "cell_type": "code",
      "source": [
        "import tensorflow as tf\n",
        "from tensorflow import keras\n",
        "\n",
        "\n",
        "model = keras.Sequential([\n",
        "    keras.layers.Dense(10, input_shape=(10,), activation='relu'),\n",
        "    keras.layers.Dense(5, activation='relu'),\n",
        "    keras.layers.Dense(1, activation='sigmoid')\n",
        "])\n",
        "\n",
        "# opt = keras.optimizers.Adam(learning_rate=0.01)\n",
        "\n",
        "model.compile(optimizer='adam',\n",
        "              loss='binary_crossentropy',\n",
        "              metrics=['accuracy'])\n",
        "\n",
        "model.fit(X_train, y_train, epochs=100)"
      ],
      "metadata": {
        "colab": {
          "base_uri": "https://localhost:8080/"
        },
        "id": "5LHGaEd8de85",
        "outputId": "9a282b07-0daa-4133-8090-3e378e330a65"
      },
      "execution_count": 802,
      "outputs": [
        {
          "output_type": "stream",
          "name": "stdout",
          "text": [
            "Epoch 1/100\n",
            "25/25 [==============================] - 1s 2ms/step - loss: 0.6578 - accuracy: 0.6087\n",
            "Epoch 2/100\n",
            "25/25 [==============================] - 0s 2ms/step - loss: 0.6041 - accuracy: 0.6975\n",
            "Epoch 3/100\n",
            "25/25 [==============================] - 0s 2ms/step - loss: 0.5689 - accuracy: 0.7725\n",
            "Epoch 4/100\n",
            "25/25 [==============================] - 0s 2ms/step - loss: 0.5471 - accuracy: 0.7862\n",
            "Epoch 5/100\n",
            "25/25 [==============================] - 0s 2ms/step - loss: 0.5330 - accuracy: 0.7925\n",
            "Epoch 6/100\n",
            "25/25 [==============================] - 0s 2ms/step - loss: 0.5218 - accuracy: 0.7937\n",
            "Epoch 7/100\n",
            "25/25 [==============================] - 0s 2ms/step - loss: 0.5151 - accuracy: 0.7950\n",
            "Epoch 8/100\n",
            "25/25 [==============================] - 0s 2ms/step - loss: 0.5080 - accuracy: 0.7987\n",
            "Epoch 9/100\n",
            "25/25 [==============================] - 0s 2ms/step - loss: 0.5033 - accuracy: 0.8062\n",
            "Epoch 10/100\n",
            "25/25 [==============================] - 0s 2ms/step - loss: 0.5001 - accuracy: 0.8062\n",
            "Epoch 11/100\n",
            "25/25 [==============================] - 0s 2ms/step - loss: 0.4964 - accuracy: 0.8062\n",
            "Epoch 12/100\n",
            "25/25 [==============================] - 0s 2ms/step - loss: 0.4929 - accuracy: 0.8062\n",
            "Epoch 13/100\n",
            "25/25 [==============================] - 0s 2ms/step - loss: 0.4897 - accuracy: 0.8062\n",
            "Epoch 14/100\n",
            "25/25 [==============================] - 0s 2ms/step - loss: 0.4876 - accuracy: 0.8062\n",
            "Epoch 15/100\n",
            "25/25 [==============================] - 0s 2ms/step - loss: 0.4845 - accuracy: 0.8062\n",
            "Epoch 16/100\n",
            "25/25 [==============================] - 0s 2ms/step - loss: 0.4828 - accuracy: 0.8062\n",
            "Epoch 17/100\n",
            "25/25 [==============================] - 0s 2ms/step - loss: 0.4812 - accuracy: 0.8062\n",
            "Epoch 18/100\n",
            "25/25 [==============================] - 0s 2ms/step - loss: 0.4797 - accuracy: 0.8062\n",
            "Epoch 19/100\n",
            "25/25 [==============================] - 0s 2ms/step - loss: 0.4789 - accuracy: 0.8062\n",
            "Epoch 20/100\n",
            "25/25 [==============================] - 0s 2ms/step - loss: 0.4782 - accuracy: 0.8062\n",
            "Epoch 21/100\n",
            "25/25 [==============================] - 0s 2ms/step - loss: 0.4770 - accuracy: 0.8062\n",
            "Epoch 22/100\n",
            "25/25 [==============================] - 0s 2ms/step - loss: 0.4758 - accuracy: 0.8062\n",
            "Epoch 23/100\n",
            "25/25 [==============================] - 0s 2ms/step - loss: 0.4752 - accuracy: 0.8062\n",
            "Epoch 24/100\n",
            "25/25 [==============================] - 0s 2ms/step - loss: 0.4748 - accuracy: 0.8062\n",
            "Epoch 25/100\n",
            "25/25 [==============================] - 0s 2ms/step - loss: 0.4744 - accuracy: 0.8062\n",
            "Epoch 26/100\n",
            "25/25 [==============================] - 0s 2ms/step - loss: 0.4734 - accuracy: 0.8062\n",
            "Epoch 27/100\n",
            "25/25 [==============================] - 0s 2ms/step - loss: 0.4732 - accuracy: 0.8062\n",
            "Epoch 28/100\n",
            "25/25 [==============================] - 0s 2ms/step - loss: 0.4728 - accuracy: 0.8062\n",
            "Epoch 29/100\n",
            "25/25 [==============================] - 0s 2ms/step - loss: 0.4724 - accuracy: 0.8062\n",
            "Epoch 30/100\n",
            "25/25 [==============================] - 0s 2ms/step - loss: 0.4718 - accuracy: 0.8062\n",
            "Epoch 31/100\n",
            "25/25 [==============================] - 0s 2ms/step - loss: 0.4721 - accuracy: 0.8062\n",
            "Epoch 32/100\n",
            "25/25 [==============================] - 0s 2ms/step - loss: 0.4712 - accuracy: 0.8062\n",
            "Epoch 33/100\n",
            "25/25 [==============================] - 0s 2ms/step - loss: 0.4714 - accuracy: 0.8062\n",
            "Epoch 34/100\n",
            "25/25 [==============================] - 0s 2ms/step - loss: 0.4708 - accuracy: 0.8062\n",
            "Epoch 35/100\n",
            "25/25 [==============================] - 0s 2ms/step - loss: 0.4705 - accuracy: 0.8062\n",
            "Epoch 36/100\n",
            "25/25 [==============================] - 0s 2ms/step - loss: 0.4702 - accuracy: 0.8062\n",
            "Epoch 37/100\n",
            "25/25 [==============================] - 0s 3ms/step - loss: 0.4701 - accuracy: 0.8062\n",
            "Epoch 38/100\n",
            "25/25 [==============================] - 0s 3ms/step - loss: 0.4697 - accuracy: 0.8062\n",
            "Epoch 39/100\n",
            "25/25 [==============================] - 0s 3ms/step - loss: 0.4696 - accuracy: 0.8062\n",
            "Epoch 40/100\n",
            "25/25 [==============================] - 0s 3ms/step - loss: 0.4691 - accuracy: 0.8062\n",
            "Epoch 41/100\n",
            "25/25 [==============================] - 0s 3ms/step - loss: 0.4691 - accuracy: 0.8062\n",
            "Epoch 42/100\n",
            "25/25 [==============================] - 0s 2ms/step - loss: 0.4687 - accuracy: 0.8062\n",
            "Epoch 43/100\n",
            "25/25 [==============================] - 0s 2ms/step - loss: 0.4686 - accuracy: 0.8062\n",
            "Epoch 44/100\n",
            "25/25 [==============================] - 0s 2ms/step - loss: 0.4687 - accuracy: 0.8062\n",
            "Epoch 45/100\n",
            "25/25 [==============================] - 0s 3ms/step - loss: 0.4683 - accuracy: 0.8062\n",
            "Epoch 46/100\n",
            "25/25 [==============================] - 0s 3ms/step - loss: 0.4683 - accuracy: 0.8062\n",
            "Epoch 47/100\n",
            "25/25 [==============================] - 0s 2ms/step - loss: 0.4680 - accuracy: 0.8062\n",
            "Epoch 48/100\n",
            "25/25 [==============================] - 0s 2ms/step - loss: 0.4677 - accuracy: 0.8062\n",
            "Epoch 49/100\n",
            "25/25 [==============================] - 0s 2ms/step - loss: 0.4678 - accuracy: 0.8062\n",
            "Epoch 50/100\n",
            "25/25 [==============================] - 0s 3ms/step - loss: 0.4674 - accuracy: 0.8062\n",
            "Epoch 51/100\n",
            "25/25 [==============================] - 0s 2ms/step - loss: 0.4672 - accuracy: 0.8062\n",
            "Epoch 52/100\n",
            "25/25 [==============================] - 0s 2ms/step - loss: 0.4675 - accuracy: 0.8062\n",
            "Epoch 53/100\n",
            "25/25 [==============================] - 0s 2ms/step - loss: 0.4668 - accuracy: 0.8062\n",
            "Epoch 54/100\n",
            "25/25 [==============================] - 0s 2ms/step - loss: 0.4669 - accuracy: 0.8062\n",
            "Epoch 55/100\n",
            "25/25 [==============================] - 0s 2ms/step - loss: 0.4664 - accuracy: 0.8062\n",
            "Epoch 56/100\n",
            "25/25 [==============================] - 0s 2ms/step - loss: 0.4663 - accuracy: 0.8062\n",
            "Epoch 57/100\n",
            "25/25 [==============================] - 0s 2ms/step - loss: 0.4663 - accuracy: 0.8062\n",
            "Epoch 58/100\n",
            "25/25 [==============================] - 0s 3ms/step - loss: 0.4661 - accuracy: 0.8062\n",
            "Epoch 59/100\n",
            "25/25 [==============================] - 0s 3ms/step - loss: 0.4657 - accuracy: 0.8062\n",
            "Epoch 60/100\n",
            "25/25 [==============================] - 0s 3ms/step - loss: 0.4659 - accuracy: 0.8062\n",
            "Epoch 61/100\n",
            "25/25 [==============================] - 0s 3ms/step - loss: 0.4656 - accuracy: 0.8062\n",
            "Epoch 62/100\n",
            "25/25 [==============================] - 0s 3ms/step - loss: 0.4653 - accuracy: 0.8062\n",
            "Epoch 63/100\n",
            "25/25 [==============================] - 0s 3ms/step - loss: 0.4655 - accuracy: 0.8062\n",
            "Epoch 64/100\n",
            "25/25 [==============================] - 0s 3ms/step - loss: 0.4651 - accuracy: 0.8062\n",
            "Epoch 65/100\n",
            "25/25 [==============================] - 0s 3ms/step - loss: 0.4655 - accuracy: 0.8075\n",
            "Epoch 66/100\n",
            "25/25 [==============================] - 0s 3ms/step - loss: 0.4653 - accuracy: 0.8075\n",
            "Epoch 67/100\n",
            "25/25 [==============================] - 0s 3ms/step - loss: 0.4649 - accuracy: 0.8075\n",
            "Epoch 68/100\n",
            "25/25 [==============================] - 0s 3ms/step - loss: 0.4647 - accuracy: 0.8062\n",
            "Epoch 69/100\n",
            "25/25 [==============================] - 0s 3ms/step - loss: 0.4645 - accuracy: 0.8075\n",
            "Epoch 70/100\n",
            "25/25 [==============================] - 0s 3ms/step - loss: 0.4642 - accuracy: 0.8075\n",
            "Epoch 71/100\n",
            "25/25 [==============================] - 0s 2ms/step - loss: 0.4647 - accuracy: 0.8075\n",
            "Epoch 72/100\n",
            "25/25 [==============================] - 0s 2ms/step - loss: 0.4641 - accuracy: 0.8075\n",
            "Epoch 73/100\n",
            "25/25 [==============================] - 0s 3ms/step - loss: 0.4641 - accuracy: 0.8075\n",
            "Epoch 74/100\n",
            "25/25 [==============================] - 0s 3ms/step - loss: 0.4637 - accuracy: 0.8075\n",
            "Epoch 75/100\n",
            "25/25 [==============================] - 0s 3ms/step - loss: 0.4645 - accuracy: 0.8075\n",
            "Epoch 76/100\n",
            "25/25 [==============================] - 0s 3ms/step - loss: 0.4640 - accuracy: 0.8075\n",
            "Epoch 77/100\n",
            "25/25 [==============================] - 0s 3ms/step - loss: 0.4636 - accuracy: 0.8075\n",
            "Epoch 78/100\n",
            "25/25 [==============================] - 0s 3ms/step - loss: 0.4641 - accuracy: 0.8087\n",
            "Epoch 79/100\n",
            "25/25 [==============================] - 0s 2ms/step - loss: 0.4635 - accuracy: 0.8075\n",
            "Epoch 80/100\n",
            "25/25 [==============================] - 0s 2ms/step - loss: 0.4633 - accuracy: 0.8075\n",
            "Epoch 81/100\n",
            "25/25 [==============================] - 0s 2ms/step - loss: 0.4632 - accuracy: 0.8112\n",
            "Epoch 82/100\n",
            "25/25 [==============================] - 0s 2ms/step - loss: 0.4632 - accuracy: 0.8100\n",
            "Epoch 83/100\n",
            "25/25 [==============================] - 0s 2ms/step - loss: 0.4630 - accuracy: 0.8087\n",
            "Epoch 84/100\n",
            "25/25 [==============================] - 0s 2ms/step - loss: 0.4630 - accuracy: 0.8100\n",
            "Epoch 85/100\n",
            "25/25 [==============================] - 0s 2ms/step - loss: 0.4633 - accuracy: 0.8100\n",
            "Epoch 86/100\n",
            "25/25 [==============================] - 0s 2ms/step - loss: 0.4634 - accuracy: 0.8112\n",
            "Epoch 87/100\n",
            "25/25 [==============================] - 0s 2ms/step - loss: 0.4633 - accuracy: 0.8112\n",
            "Epoch 88/100\n",
            "25/25 [==============================] - 0s 2ms/step - loss: 0.4627 - accuracy: 0.8112\n",
            "Epoch 89/100\n",
            "25/25 [==============================] - 0s 2ms/step - loss: 0.4625 - accuracy: 0.8112\n",
            "Epoch 90/100\n",
            "25/25 [==============================] - 0s 2ms/step - loss: 0.4623 - accuracy: 0.8112\n",
            "Epoch 91/100\n",
            "25/25 [==============================] - 0s 2ms/step - loss: 0.4626 - accuracy: 0.8100\n",
            "Epoch 92/100\n",
            "25/25 [==============================] - 0s 2ms/step - loss: 0.4627 - accuracy: 0.8100\n",
            "Epoch 93/100\n",
            "25/25 [==============================] - 0s 2ms/step - loss: 0.4628 - accuracy: 0.8112\n",
            "Epoch 94/100\n",
            "25/25 [==============================] - 0s 2ms/step - loss: 0.4622 - accuracy: 0.8112\n",
            "Epoch 95/100\n",
            "25/25 [==============================] - 0s 2ms/step - loss: 0.4622 - accuracy: 0.8112\n",
            "Epoch 96/100\n",
            "25/25 [==============================] - 0s 2ms/step - loss: 0.4625 - accuracy: 0.8100\n",
            "Epoch 97/100\n",
            "25/25 [==============================] - 0s 2ms/step - loss: 0.4620 - accuracy: 0.8100\n",
            "Epoch 98/100\n",
            "25/25 [==============================] - 0s 2ms/step - loss: 0.4618 - accuracy: 0.8112\n",
            "Epoch 99/100\n",
            "25/25 [==============================] - 0s 2ms/step - loss: 0.4622 - accuracy: 0.8087\n",
            "Epoch 100/100\n",
            "25/25 [==============================] - 0s 2ms/step - loss: 0.4614 - accuracy: 0.8112\n"
          ]
        },
        {
          "output_type": "execute_result",
          "data": {
            "text/plain": [
              "<keras.src.callbacks.History at 0x7d9f1b5d4850>"
            ]
          },
          "metadata": {},
          "execution_count": 802
        }
      ]
    },
    {
      "cell_type": "code",
      "source": [
        "model.evaluate(X_test, y_test)"
      ],
      "metadata": {
        "colab": {
          "base_uri": "https://localhost:8080/"
        },
        "id": "sOuNyGYGde61",
        "outputId": "c6cb47a1-644a-455d-c0e5-0ab88eda3465"
      },
      "execution_count": 803,
      "outputs": [
        {
          "output_type": "stream",
          "name": "stdout",
          "text": [
            "7/7 [==============================] - 0s 2ms/step - loss: 0.5131 - accuracy: 0.7900\n"
          ]
        },
        {
          "output_type": "execute_result",
          "data": {
            "text/plain": [
              "[0.5131161212921143, 0.7900000214576721]"
            ]
          },
          "metadata": {},
          "execution_count": 803
        }
      ]
    },
    {
      "cell_type": "code",
      "source": [
        "yp = model.predict(X_test)\n",
        "yp[:5]"
      ],
      "metadata": {
        "colab": {
          "base_uri": "https://localhost:8080/"
        },
        "id": "gP5Obvz3de4d",
        "outputId": "5820a97b-85d5-4bb2-ff24-c5ad6c47b78f"
      },
      "execution_count": 774,
      "outputs": [
        {
          "output_type": "stream",
          "name": "stdout",
          "text": [
            "7/7 [==============================] - 0s 2ms/step\n"
          ]
        },
        {
          "output_type": "execute_result",
          "data": {
            "text/plain": [
              "array([[0.18989854],\n",
              "       [0.1796647 ],\n",
              "       [0.09916543],\n",
              "       [0.24326362],\n",
              "       [0.19444144]], dtype=float32)"
            ]
          },
          "metadata": {},
          "execution_count": 774
        }
      ]
    },
    {
      "cell_type": "markdown",
      "source": [
        "# precision    recall  f1-score   support"
      ],
      "metadata": {
        "id": "ahEnVRjrvEUi"
      }
    },
    {
      "cell_type": "code",
      "source": [
        "y_pred = []\n",
        "for element in yp:\n",
        "    if element > 0.5:\n",
        "        y_pred.append(1)\n",
        "    else:\n",
        "        y_pred.append(0)\n",
        "from sklearn.metrics import confusion_matrix , classification_report\n",
        "\n",
        "print(classification_report(y_test,y_pred))"
      ],
      "metadata": {
        "colab": {
          "base_uri": "https://localhost:8080/"
        },
        "id": "0qcKafQ9de2J",
        "outputId": "80dd7b31-c007-470f-e96c-e60ac7c8260c"
      },
      "execution_count": 778,
      "outputs": [
        {
          "output_type": "stream",
          "name": "stdout",
          "text": [
            "              precision    recall  f1-score   support\n",
            "\n",
            "           0       0.81      1.00      0.89       161\n",
            "           1       0.00      0.00      0.00        39\n",
            "\n",
            "    accuracy                           0.81       200\n",
            "   macro avg       0.40      0.50      0.45       200\n",
            "weighted avg       0.65      0.81      0.72       200\n",
            "\n"
          ]
        },
        {
          "output_type": "stream",
          "name": "stderr",
          "text": [
            "/usr/local/lib/python3.10/dist-packages/sklearn/metrics/_classification.py:1344: UndefinedMetricWarning: Precision and F-score are ill-defined and being set to 0.0 in labels with no predicted samples. Use `zero_division` parameter to control this behavior.\n",
            "  _warn_prf(average, modifier, msg_start, len(result))\n",
            "/usr/local/lib/python3.10/dist-packages/sklearn/metrics/_classification.py:1344: UndefinedMetricWarning: Precision and F-score are ill-defined and being set to 0.0 in labels with no predicted samples. Use `zero_division` parameter to control this behavior.\n",
            "  _warn_prf(average, modifier, msg_start, len(result))\n",
            "/usr/local/lib/python3.10/dist-packages/sklearn/metrics/_classification.py:1344: UndefinedMetricWarning: Precision and F-score are ill-defined and being set to 0.0 in labels with no predicted samples. Use `zero_division` parameter to control this behavior.\n",
            "  _warn_prf(average, modifier, msg_start, len(result))\n"
          ]
        }
      ]
    },
    {
      "cell_type": "code",
      "source": [
        "import seaborn as sn\n",
        "cm = tf.math.confusion_matrix(labels=y_test,predictions=y_pred)\n",
        "\n",
        "plt.figure(figsize = (10,7))\n",
        "sn.heatmap(cm, annot=True, fmt='d')\n",
        "plt.xlabel('Predicted')\n",
        "plt.ylabel('Truth')"
      ],
      "metadata": {
        "id": "A8b91TFaXeJK",
        "colab": {
          "base_uri": "https://localhost:8080/",
          "height": 639
        },
        "outputId": "9fde9b3f-fdd8-4f5d-b24e-98f719b94db5"
      },
      "execution_count": 777,
      "outputs": [
        {
          "output_type": "execute_result",
          "data": {
            "text/plain": [
              "Text(95.72222222222221, 0.5, 'Truth')"
            ]
          },
          "metadata": {},
          "execution_count": 777
        },
        {
          "output_type": "display_data",
          "data": {
            "text/plain": [
              "<Figure size 1000x700 with 2 Axes>"
            ],
            "image/png": "[encoded data removed]"
          },
          "metadata": {}
        }
      ]
    },
    {
      "cell_type": "markdown",
      "source": [
        "TensorFlow Kears kutubhonasidan foydalangan holdaham model bashoratimiz quvonarli chiqmadi model aniqligi 81% lekin obunachilarni bashorat qilganda obunadan chiqganlarni deyarli barchasini hato bashorat qilgan."
      ],
      "metadata": {
        "id": "wldrHc45vHpt"
      }
    },
    {
      "cell_type": "markdown",
      "source": [
        "# Hulosa"
      ],
      "metadata": {
        "id": "9M1qNNkOwyeH"
      }
    },
    {
      "cell_type": "markdown",
      "source": [
        "Demak hulosa qiladigan bo'lsak, bashorat uchun qurilgan modellarimiz barchasini taxlil qilib chiqdik bashorat qilgan modellar kesimida:\n",
        "\n",
        "1. LogisticRegression() - 81% aniqlik lekin bashorat qilishdagi hatoliklar ko'p.\n",
        "\n",
        "2. DecisionTreeClassifier() - 73% aniqlik bashorat qilishda hatolik bor lekin ko'p emas\n",
        "\n",
        "3. keras.Sequential() - 81% aniqlik lekin bashorat qilishda hatoliklar ko'p\n",
        "\n",
        "demak biz ushbu loyihani bashorat qilish uchun DecisionTreeClassifier() modelidan foydalanamiz chunki ushbu model qolgan modellarga qaraganda hatosiz ishlamoqda. Ushbu loyihada modellarimiz past va yaxshi ishlamasligining asosiy sababi ma'lumotlarni bir biriga bolgan Correlyatsiyasi pastligida va ma'lumotlr kamligida. Agar ushbu bashort modellimizni kuchaytirmoqchi bo'lsak bizga Ko'p hususiyatli va ko'proq ma'lumotlar kerak bo'ladi."
      ],
      "metadata": {
        "id": "NP9Jsm7Dw1AS"
      }
    },
    {
      "cell_type": "code",
      "source": [],
      "metadata": {
        "id": "Q3oI2RbKwan-"
      },
      "execution_count": 778,
      "outputs": []
    }
  ]
}